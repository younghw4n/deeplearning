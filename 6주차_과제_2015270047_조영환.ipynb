{
  "nbformat": 4,
  "nbformat_minor": 0,
  "metadata": {
    "colab": {
      "name": "6주차_과제_2015270047_조영환.ipynb",
      "provenance": [],
      "collapsed_sections": [],
      "authorship_tag": "ABX9TyPC2D008Th97cyK3IDMQXV8",
      "include_colab_link": true
    },
    "kernelspec": {
      "name": "python3",
      "display_name": "Python 3"
    }
  },
  "cells": [
    {
      "cell_type": "markdown",
      "metadata": {
        "id": "view-in-github",
        "colab_type": "text"
      },
      "source": [
        "<a href=\"https://colab.research.google.com/github/younghw4n/deeplearning/blob/master/6%EC%A3%BC%EC%B0%A8_%EA%B3%BC%EC%A0%9C_2015270047_%EC%A1%B0%EC%98%81%ED%99%98.ipynb\" target=\"_parent\"><img src=\"https://colab.research.google.com/assets/colab-badge.svg\" alt=\"Open In Colab\"/></a>"
      ]
    },
    {
      "cell_type": "markdown",
      "metadata": {
        "id": "b2TnP7g3aJ8s",
        "colab_type": "text"
      },
      "source": [
        "#3.4-classifying-movie-reviews\n"
      ]
    },
    {
      "cell_type": "code",
      "metadata": {
        "id": "f_tGmz-ma-eU",
        "colab_type": "code",
        "outputId": "737d1d9d-2170-4182-a6a3-f858897d9828",
        "colab": {
          "base_uri": "https://localhost:8080/",
          "height": 955
        }
      },
      "source": [
        "from keras.datasets import imdb\n",
        "(train_data, train_labels), (test_data, test_labels) = imdb.load_data(num_words=10000)\n",
        "\n",
        "import numpy as np\n",
        "def vectorize_sequences(sequences, dimension=10000):\n",
        "  results = np.zeros((len(sequences), dimension))\n",
        "  for i, sequence in enumerate(sequences):\n",
        "    results[i, sequence] = 1.\n",
        "  return results\n",
        "\n",
        "x_train = vectorize_sequences(train_data)\n",
        "x_test = vectorize_sequences(test_data)\n",
        "\n",
        "y_train = np.asarray(train_labels).astype('float32')\n",
        "y_test = np.asarray(test_labels).astype('float32')\n",
        "\n",
        "from keras import models\n",
        "from keras import layers\n",
        "\n",
        "model = models.Sequential() #20번 훈련\n",
        "\n",
        "model.add(layers.Dense(16, activation='relu', input_shape=(10000,)))\n",
        "model.add(layers.Dense(16, activation='relu'))\n",
        "model.add(layers.Dense(1, activation='sigmoid'))\n",
        "\n",
        "model.compile(optimizer='rmsprop',\n",
        "              loss='binary_crossentropy',\n",
        "              metrics=['accuracy'])\n",
        "\n",
        "x_val = x_train[:10000]\n",
        "partial_x_train = x_train[10000:]\n",
        "\n",
        "y_val = y_train[:10000]\n",
        "partial_y_train = y_train[10000:]\n",
        "\n",
        "history = model.fit(partial_x_train,\n",
        "                    partial_y_train,\n",
        "                    epochs=20,\n",
        "                    batch_size=512,\n",
        "                    validation_data=(x_val, y_val))\n",
        "\n",
        "history_dict = history.history\n",
        "history_dict.keys()\n",
        "\n",
        "model = models.Sequential() #4번 훈련\n",
        "\n",
        "model.add(layers.Dense(16, activation='relu', input_shape=(10000,)))\n",
        "model.add(layers.Dense(16, activation='relu'))\n",
        "model.add(layers.Dense(1, activation='sigmoid'))\n",
        "\n",
        "model.compile(optimizer='rmsprop',\n",
        "              loss='binary_crossentropy',\n",
        "              metrics=['accuracy'])\n",
        "\n",
        "model.fit(x_train, y_train, epochs=4, batch_size=512)\n",
        "results = model.evaluate(x_test, y_test)\n",
        "\n",
        "results"
      ],
      "execution_count": 0,
      "outputs": [
        {
          "output_type": "stream",
          "text": [
            "Train on 15000 samples, validate on 10000 samples\n",
            "Epoch 1/20\n",
            "15000/15000 [==============================] - 2s 165us/step - loss: 0.5980 - accuracy: 0.6807 - val_loss: 0.5050 - val_accuracy: 0.8346\n",
            "Epoch 2/20\n",
            "15000/15000 [==============================] - 2s 144us/step - loss: 0.4119 - accuracy: 0.8827 - val_loss: 0.3705 - val_accuracy: 0.8839\n",
            "Epoch 3/20\n",
            "15000/15000 [==============================] - 2s 144us/step - loss: 0.2853 - accuracy: 0.9196 - val_loss: 0.3027 - val_accuracy: 0.8898\n",
            "Epoch 4/20\n",
            "15000/15000 [==============================] - 2s 143us/step - loss: 0.2158 - accuracy: 0.9361 - val_loss: 0.2799 - val_accuracy: 0.8904\n",
            "Epoch 5/20\n",
            "15000/15000 [==============================] - 2s 143us/step - loss: 0.1689 - accuracy: 0.9489 - val_loss: 0.2785 - val_accuracy: 0.8886\n",
            "Epoch 6/20\n",
            "15000/15000 [==============================] - 2s 141us/step - loss: 0.1382 - accuracy: 0.9590 - val_loss: 0.2951 - val_accuracy: 0.8837\n",
            "Epoch 7/20\n",
            "15000/15000 [==============================] - 2s 143us/step - loss: 0.1108 - accuracy: 0.9680 - val_loss: 0.2907 - val_accuracy: 0.8874\n",
            "Epoch 8/20\n",
            "15000/15000 [==============================] - 2s 143us/step - loss: 0.0911 - accuracy: 0.9743 - val_loss: 0.3188 - val_accuracy: 0.8815\n",
            "Epoch 9/20\n",
            "15000/15000 [==============================] - 2s 142us/step - loss: 0.0712 - accuracy: 0.9807 - val_loss: 0.3389 - val_accuracy: 0.8804\n",
            "Epoch 10/20\n",
            "15000/15000 [==============================] - 2s 141us/step - loss: 0.0583 - accuracy: 0.9867 - val_loss: 0.3730 - val_accuracy: 0.8754\n",
            "Epoch 11/20\n",
            "15000/15000 [==============================] - 2s 141us/step - loss: 0.0442 - accuracy: 0.9902 - val_loss: 0.3770 - val_accuracy: 0.8802\n",
            "Epoch 12/20\n",
            "15000/15000 [==============================] - 2s 143us/step - loss: 0.0344 - accuracy: 0.9938 - val_loss: 0.4054 - val_accuracy: 0.8776\n",
            "Epoch 13/20\n",
            "15000/15000 [==============================] - 2s 144us/step - loss: 0.0261 - accuracy: 0.9954 - val_loss: 0.4431 - val_accuracy: 0.8752\n",
            "Epoch 14/20\n",
            "15000/15000 [==============================] - 2s 144us/step - loss: 0.0199 - accuracy: 0.9973 - val_loss: 0.4745 - val_accuracy: 0.8732\n",
            "Epoch 15/20\n",
            "15000/15000 [==============================] - 2s 138us/step - loss: 0.0135 - accuracy: 0.9987 - val_loss: 0.5076 - val_accuracy: 0.8740\n",
            "Epoch 16/20\n",
            "15000/15000 [==============================] - 2s 138us/step - loss: 0.0128 - accuracy: 0.9980 - val_loss: 0.5391 - val_accuracy: 0.8713\n",
            "Epoch 17/20\n",
            "15000/15000 [==============================] - 2s 137us/step - loss: 0.0060 - accuracy: 0.9995 - val_loss: 0.5782 - val_accuracy: 0.8718\n",
            "Epoch 18/20\n",
            "15000/15000 [==============================] - 2s 138us/step - loss: 0.0062 - accuracy: 0.9993 - val_loss: 0.6096 - val_accuracy: 0.8704\n",
            "Epoch 19/20\n",
            "15000/15000 [==============================] - 2s 137us/step - loss: 0.0032 - accuracy: 0.9997 - val_loss: 0.6697 - val_accuracy: 0.8682\n",
            "Epoch 20/20\n",
            "15000/15000 [==============================] - 2s 136us/step - loss: 0.0052 - accuracy: 0.9988 - val_loss: 0.6843 - val_accuracy: 0.8689\n",
            "Epoch 1/4\n",
            "25000/25000 [==============================] - 2s 99us/step - loss: 0.4441 - accuracy: 0.8159\n",
            "Epoch 2/4\n",
            "25000/25000 [==============================] - 2s 97us/step - loss: 0.2560 - accuracy: 0.9098\n",
            "Epoch 3/4\n",
            "25000/25000 [==============================] - 2s 97us/step - loss: 0.2013 - accuracy: 0.9273\n",
            "Epoch 4/4\n",
            "25000/25000 [==============================] - 2s 97us/step - loss: 0.1696 - accuracy: 0.9399\n",
            "25000/25000 [==============================] - 2s 75us/step\n"
          ],
          "name": "stdout"
        },
        {
          "output_type": "execute_result",
          "data": {
            "text/plain": [
              "[0.3143777401638031, 0.8757200241088867]"
            ]
          },
          "metadata": {
            "tags": []
          },
          "execution_count": 5
        }
      ]
    },
    {
      "cell_type": "markdown",
      "metadata": {
        "id": "QSYyrVc3adxR",
        "colab_type": "text"
      },
      "source": [
        "#1. 한개 또는 세개의 은닉층 사용, 검증과 테스트 정확도에 미치는 영향"
      ]
    },
    {
      "cell_type": "markdown",
      "metadata": {
        "id": "5pCJCqDBeUDm",
        "colab_type": "text"
      },
      "source": [
        "1-1. 한개 은닉층"
      ]
    },
    {
      "cell_type": "code",
      "metadata": {
        "id": "FERrQ11eaDEW",
        "colab_type": "code",
        "outputId": "7275fce2-58e0-4188-86aa-1d80edcad35a",
        "colab": {
          "base_uri": "https://localhost:8080/",
          "height": 197
        }
      },
      "source": [
        "model=models.Sequential()\n",
        "\n",
        "model.add(layers.Dense(16,activation='relu',input_shape=(10000,)))\n",
        "model.add(layers.Dense(1,activation='sigmoid'))\n",
        "\n",
        "model.compile(optimizer='rmsprop',loss='binary_crossentropy',metrics=['accuracy'])\n",
        "\n",
        "model.fit(x_train,y_train,epochs=4,batch_size=512)\n",
        "resluts=model.evaluate(x_test,y_test)\n",
        "\n",
        "resluts"
      ],
      "execution_count": 0,
      "outputs": [
        {
          "output_type": "stream",
          "text": [
            "Epoch 1/4\n",
            "25000/25000 [==============================] - 2s 97us/step - loss: 0.4335 - accuracy: 0.8242\n",
            "Epoch 2/4\n",
            "25000/25000 [==============================] - 2s 94us/step - loss: 0.2593 - accuracy: 0.9108\n",
            "Epoch 3/4\n",
            "25000/25000 [==============================] - 2s 95us/step - loss: 0.2060 - accuracy: 0.9286\n",
            "Epoch 4/4\n",
            "25000/25000 [==============================] - 2s 95us/step - loss: 0.1777 - accuracy: 0.9389\n",
            "25000/25000 [==============================] - 2s 68us/step\n"
          ],
          "name": "stdout"
        },
        {
          "output_type": "execute_result",
          "data": {
            "text/plain": [
              "[0.2839990340232849, 0.8860800266265869]"
            ]
          },
          "metadata": {
            "tags": []
          },
          "execution_count": 9
        }
      ]
    },
    {
      "cell_type": "markdown",
      "metadata": {
        "id": "I8HjDuoJfGpq",
        "colab_type": "text"
      },
      "source": [
        "1-2. 세개 은닉층"
      ]
    },
    {
      "cell_type": "code",
      "metadata": {
        "id": "viEVb2yNfIoM",
        "colab_type": "code",
        "outputId": "162d9442-1154-4499-924c-092cc7c65d0a",
        "colab": {
          "base_uri": "https://localhost:8080/",
          "height": 197
        }
      },
      "source": [
        "model=models.Sequential()\n",
        "\n",
        "model.add(layers.Dense(16,activation='relu',input_shape=(10000,)))\n",
        "model.add(layers.Dense(16, activation='relu'))\n",
        "model.add(layers.Dense(16, activation='relu'))\n",
        "model.add(layers.Dense(1,activation='sigmoid'))\n",
        "\n",
        "model.compile(optimizer='rmsprop',loss='binary_crossentropy',metrics=['accuracy'])\n",
        "\n",
        "model.fit(x_train,y_train,epochs=4,batch_size=512)\n",
        "resluts=model.evaluate(x_test,y_test)\n",
        "\n",
        "resluts"
      ],
      "execution_count": 0,
      "outputs": [
        {
          "output_type": "stream",
          "text": [
            "Epoch 1/4\n",
            "25000/25000 [==============================] - 2s 99us/step - loss: 0.4789 - accuracy: 0.8082\n",
            "Epoch 2/4\n",
            "25000/25000 [==============================] - 2s 95us/step - loss: 0.2595 - accuracy: 0.9089\n",
            "Epoch 3/4\n",
            "25000/25000 [==============================] - 2s 95us/step - loss: 0.1974 - accuracy: 0.9299\n",
            "Epoch 4/4\n",
            "25000/25000 [==============================] - 2s 95us/step - loss: 0.1633 - accuracy: 0.9418\n",
            "25000/25000 [==============================] - 2s 64us/step\n"
          ],
          "name": "stdout"
        },
        {
          "output_type": "execute_result",
          "data": {
            "text/plain": [
              "[0.34870922278404237, 0.8694000244140625]"
            ]
          },
          "metadata": {
            "tags": []
          },
          "execution_count": 10
        }
      ]
    },
    {
      "cell_type": "markdown",
      "metadata": {
        "id": "Fg_ZenNjfUFN",
        "colab_type": "text"
      },
      "source": [
        "#2. 층의 은닉 추가하거나 줄이기"
      ]
    },
    {
      "cell_type": "markdown",
      "metadata": {
        "id": "eUSQPWEhfbQ1",
        "colab_type": "text"
      },
      "source": [
        "2-1. 층의 은닉 유닛 추가하기(64개)\n",
        "\n"
      ]
    },
    {
      "cell_type": "code",
      "metadata": {
        "id": "xJ_bCeVrfa6M",
        "colab_type": "code",
        "outputId": "ccd88436-ef29-4084-fd34-dd1420959f12",
        "colab": {
          "base_uri": "https://localhost:8080/",
          "height": 197
        }
      },
      "source": [
        "model=models.Sequential()\n",
        "\n",
        "model.add(layers.Dense(64,activation='relu',input_shape=(10000,)))\n",
        "model.add(layers.Dense(64,activation='relu'))\n",
        "model.add(layers.Dense(1,activation='sigmoid'))\n",
        "\n",
        "model.compile(optimizer='rmsprop',loss='binary_crossentropy',metrics=['accuracy'])\n",
        "\n",
        "model.fit(x_train,y_train,epochs=4,batch_size=512)\n",
        "resluts=model.evaluate(x_test,y_test)\n",
        "\n",
        "resluts"
      ],
      "execution_count": 0,
      "outputs": [
        {
          "output_type": "stream",
          "text": [
            "Epoch 1/4\n",
            "25000/25000 [==============================] - 3s 133us/step - loss: 0.4129 - accuracy: 0.8171\n",
            "Epoch 2/4\n",
            "25000/25000 [==============================] - 3s 130us/step - loss: 0.2410 - accuracy: 0.9067\n",
            "Epoch 3/4\n",
            "25000/25000 [==============================] - 3s 130us/step - loss: 0.1801 - accuracy: 0.9314\n",
            "Epoch 4/4\n",
            "25000/25000 [==============================] - 3s 131us/step - loss: 0.1432 - accuracy: 0.9476\n",
            "25000/25000 [==============================] - 2s 93us/step\n"
          ],
          "name": "stdout"
        },
        {
          "output_type": "execute_result",
          "data": {
            "text/plain": [
              "[0.33089154329299925, 0.8768799901008606]"
            ]
          },
          "metadata": {
            "tags": []
          },
          "execution_count": 11
        }
      ]
    },
    {
      "cell_type": "markdown",
      "metadata": {
        "id": "trYCNAqqfzye",
        "colab_type": "text"
      },
      "source": [
        "2-2. 층의 은닉 유닛 줄이기(8개)"
      ]
    },
    {
      "cell_type": "code",
      "metadata": {
        "id": "uHczRacCf6Y-",
        "colab_type": "code",
        "outputId": "4f059cf9-aa26-4828-f516-5f0336d92b61",
        "colab": {
          "base_uri": "https://localhost:8080/",
          "height": 197
        }
      },
      "source": [
        "model=models.Sequential()\n",
        "\n",
        "model.add(layers.Dense(8,activation='relu',input_shape=(10000,)))\n",
        "model.add(layers.Dense(8,activation='relu'))\n",
        "model.add(layers.Dense(1,activation='sigmoid'))\n",
        "\n",
        "model.compile(optimizer='rmsprop',loss='binary_crossentropy',metrics=['accuracy'])\n",
        "\n",
        "model.fit(x_train,y_train,epochs=4,batch_size=512)\n",
        "resluts=model.evaluate(x_test,y_test)\n",
        "\n",
        "resluts"
      ],
      "execution_count": 0,
      "outputs": [
        {
          "output_type": "stream",
          "text": [
            "Epoch 1/4\n",
            "25000/25000 [==============================] - 2s 96us/step - loss: 0.5392 - accuracy: 0.7816\n",
            "Epoch 2/4\n",
            "25000/25000 [==============================] - 2s 93us/step - loss: 0.3307 - accuracy: 0.9020\n",
            "Epoch 3/4\n",
            "25000/25000 [==============================] - 2s 93us/step - loss: 0.2440 - accuracy: 0.9222\n",
            "Epoch 4/4\n",
            "25000/25000 [==============================] - 2s 92us/step - loss: 0.1971 - accuracy: 0.9353\n",
            "25000/25000 [==============================] - 2s 61us/step\n"
          ],
          "name": "stdout"
        },
        {
          "output_type": "execute_result",
          "data": {
            "text/plain": [
              "[0.2860123443031311, 0.8861200213432312]"
            ]
          },
          "metadata": {
            "tags": []
          },
          "execution_count": 12
        }
      ]
    },
    {
      "cell_type": "markdown",
      "metadata": {
        "id": "EOuAnCRagVwz",
        "colab_type": "text"
      },
      "source": [
        "#3. mse 손실 함수 사용"
      ]
    },
    {
      "cell_type": "code",
      "metadata": {
        "id": "y5q8GDk4gjTl",
        "colab_type": "code",
        "outputId": "d17dfe60-2003-4506-8b04-10f3022ed655",
        "colab": {
          "base_uri": "https://localhost:8080/",
          "height": 197
        }
      },
      "source": [
        "model = models.Sequential()\n",
        "\n",
        "model.add(layers.Dense(16, activation='relu', input_shape=(10000,)))\n",
        "model.add(layers.Dense(16, activation='relu'))\n",
        "model.add(layers.Dense(1, activation='sigmoid'))\n",
        "\n",
        "model.compile(optimizer='rmsprop', loss='mse', metrics=['accuracy'])\n",
        "\n",
        "model.fit(x_train, y_train, epochs=4, batch_size=512)\n",
        "results = model.evaluate(x_test, y_test)\n",
        "\n",
        "results"
      ],
      "execution_count": 0,
      "outputs": [
        {
          "output_type": "stream",
          "text": [
            "Epoch 1/4\n",
            "25000/25000 [==============================] - 2s 97us/step - loss: 0.1454 - accuracy: 0.8176\n",
            "Epoch 2/4\n",
            "25000/25000 [==============================] - 2s 94us/step - loss: 0.0766 - accuracy: 0.9116\n",
            "Epoch 3/4\n",
            "25000/25000 [==============================] - 2s 94us/step - loss: 0.0568 - accuracy: 0.9335\n",
            "Epoch 4/4\n",
            "25000/25000 [==============================] - 2s 93us/step - loss: 0.0469 - accuracy: 0.9440\n",
            "25000/25000 [==============================] - 2s 63us/step\n"
          ],
          "name": "stdout"
        },
        {
          "output_type": "execute_result",
          "data": {
            "text/plain": [
              "[0.0878651859140396, 0.8805999755859375]"
            ]
          },
          "metadata": {
            "tags": []
          },
          "execution_count": 13
        }
      ]
    },
    {
      "cell_type": "markdown",
      "metadata": {
        "id": "XSlcDErNg6l2",
        "colab_type": "text"
      },
      "source": [
        "#4. tanh 활성화 함수 사용"
      ]
    },
    {
      "cell_type": "code",
      "metadata": {
        "id": "LhFcjbUgg-xq",
        "colab_type": "code",
        "outputId": "ee8c4214-9dbb-4316-892c-200f656750f4",
        "colab": {
          "base_uri": "https://localhost:8080/",
          "height": 197
        }
      },
      "source": [
        "model = models.Sequential()\n",
        "\n",
        "model.add(layers.Dense(16, activation='tanh', input_shape=(10000,)))\n",
        "model.add(layers.Dense(16, activation='tanh'))\n",
        "model.add(layers.Dense(1, activation='sigmoid'))\n",
        "\n",
        "model.compile(optimizer='rmsprop', loss='binary_crossentropy', metrics=['accuracy'])\n",
        "\n",
        "model.fit(x_train, y_train, epochs=4, batch_size=512)\n",
        "results = model.evaluate(x_test, y_test)\n",
        "\n",
        "results"
      ],
      "execution_count": 0,
      "outputs": [
        {
          "output_type": "stream",
          "text": [
            "Epoch 1/4\n",
            "25000/25000 [==============================] - 2s 97us/step - loss: 0.4285 - accuracy: 0.8334\n",
            "Epoch 2/4\n",
            "25000/25000 [==============================] - 2s 94us/step - loss: 0.2401 - accuracy: 0.9137\n",
            "Epoch 3/4\n",
            "25000/25000 [==============================] - 2s 94us/step - loss: 0.1808 - accuracy: 0.9330\n",
            "Epoch 4/4\n",
            "25000/25000 [==============================] - 2s 93us/step - loss: 0.1469 - accuracy: 0.9477\n",
            "25000/25000 [==============================] - 2s 63us/step\n"
          ],
          "name": "stdout"
        },
        {
          "output_type": "execute_result",
          "data": {
            "text/plain": [
              "[0.3195919881486893, 0.878600001335144]"
            ]
          },
          "metadata": {
            "tags": []
          },
          "execution_count": 14
        }
      ]
    },
    {
      "cell_type": "markdown",
      "metadata": {
        "id": "PmyiicC1hU8n",
        "colab_type": "text"
      },
      "source": [
        "#3.5-classifying-newswires"
      ]
    },
    {
      "cell_type": "code",
      "metadata": {
        "id": "7UVmV9hxhWBm",
        "colab_type": "code",
        "outputId": "2c330e4a-b10e-4939-de7f-e21ffbb92b35",
        "colab": {
          "base_uri": "https://localhost:8080/",
          "height": 1000
        }
      },
      "source": [
        "from keras.datasets import reuters\n",
        "(train_data, train_labels), (test_data, test_labels) = reuters.load_data(num_words=10000)\n",
        "\n",
        "import numpy as np\n",
        "\n",
        "def vectorize_sequences(sequences, dimension=10000):\n",
        "    results = np.zeros((len(sequences), dimension))\n",
        "    for i, sequence in enumerate(sequences):\n",
        "        results[i, sequence] = 1.\n",
        "    return results\n",
        "\n",
        "x_train = vectorize_sequences(train_data)\n",
        "x_test = vectorize_sequences(test_data)\n",
        "\n",
        "def to_one_hot(labels, dimension=46):\n",
        "    results = np.zeros((len(labels), dimension))\n",
        "    for i, label in enumerate(labels):\n",
        "        results[i, label] = 1.\n",
        "    return results\n",
        "\n",
        "one_hot_train_labels = to_one_hot(train_labels)\n",
        "one_hot_test_labels = to_one_hot(test_labels)\n",
        "\n",
        "from keras.utils.np_utils import to_categorical\n",
        "\n",
        "one_hot_train_labels = to_categorical(train_labels)\n",
        "one_hot_test_labels = to_categorical(test_labels)\n",
        "\n",
        "from keras import models\n",
        "from keras import layers\n",
        "\n",
        "model = models.Sequential()\n",
        "model.add(layers.Dense(64, activation='relu', input_shape=(10000,)))\n",
        "model.add(layers.Dense(64, activation='relu'))\n",
        "model.add(layers.Dense(46, activation='softmax'))\n",
        "\n",
        "model.compile(optimizer='rmsprop',\n",
        "              loss='categorical_crossentropy',\n",
        "              metrics=['accuracy'])\n",
        "\n",
        "x_val = x_train[:1000]\n",
        "partial_x_train = x_train[1000:]\n",
        "\n",
        "y_val = one_hot_train_labels[:1000]\n",
        "partial_y_train = one_hot_train_labels[1000:]\n",
        "\n",
        "history = model.fit(partial_x_train,\n",
        "                    partial_y_train,\n",
        "                    epochs=20,\n",
        "                    batch_size=512,\n",
        "                    validation_data=(x_val, y_val))\n",
        "\n",
        "model = models.Sequential()\n",
        "model.add(layers.Dense(64, activation='relu', input_shape=(10000,)))\n",
        "model.add(layers.Dense(64, activation='relu'))\n",
        "model.add(layers.Dense(46, activation='softmax'))\n",
        "\n",
        "model.compile(optimizer='rmsprop',\n",
        "              loss='categorical_crossentropy',\n",
        "              metrics=['accuracy'])\n",
        "model.fit(partial_x_train,\n",
        "          partial_y_train,\n",
        "          epochs=9,\n",
        "          batch_size=512,\n",
        "          validation_data=(x_val, y_val))\n",
        "results = model.evaluate(x_test, one_hot_test_labels)\n",
        "\n",
        "results"
      ],
      "execution_count": 0,
      "outputs": [
        {
          "output_type": "stream",
          "text": [
            "Train on 7982 samples, validate on 1000 samples\n",
            "Epoch 1/20\n",
            "7982/7982 [==============================] - 1s 137us/step - loss: 2.6710 - accuracy: 0.5049 - val_loss: 1.7334 - val_accuracy: 0.6430\n",
            "Epoch 2/20\n",
            "7982/7982 [==============================] - 1s 125us/step - loss: 1.4368 - accuracy: 0.7112 - val_loss: 1.3149 - val_accuracy: 0.7190\n",
            "Epoch 3/20\n",
            "7982/7982 [==============================] - 1s 126us/step - loss: 1.0699 - accuracy: 0.7744 - val_loss: 1.1348 - val_accuracy: 0.7670\n",
            "Epoch 4/20\n",
            "7982/7982 [==============================] - 1s 127us/step - loss: 0.8434 - accuracy: 0.8206 - val_loss: 1.0297 - val_accuracy: 0.7880\n",
            "Epoch 5/20\n",
            "7982/7982 [==============================] - 1s 127us/step - loss: 0.6695 - accuracy: 0.8598 - val_loss: 0.9854 - val_accuracy: 0.7800\n",
            "Epoch 6/20\n",
            "7982/7982 [==============================] - 1s 127us/step - loss: 0.5343 - accuracy: 0.8879 - val_loss: 0.9410 - val_accuracy: 0.8040\n",
            "Epoch 7/20\n",
            "7982/7982 [==============================] - 1s 126us/step - loss: 0.4313 - accuracy: 0.9107 - val_loss: 0.9159 - val_accuracy: 0.8160\n",
            "Epoch 8/20\n",
            "7982/7982 [==============================] - 1s 127us/step - loss: 0.3510 - accuracy: 0.9278 - val_loss: 0.9031 - val_accuracy: 0.8150\n",
            "Epoch 9/20\n",
            "7982/7982 [==============================] - 1s 126us/step - loss: 0.2897 - accuracy: 0.9380 - val_loss: 0.9137 - val_accuracy: 0.8120\n",
            "Epoch 10/20\n",
            "7982/7982 [==============================] - 1s 126us/step - loss: 0.2428 - accuracy: 0.9456 - val_loss: 0.9240 - val_accuracy: 0.8190\n",
            "Epoch 11/20\n",
            "7982/7982 [==============================] - 1s 126us/step - loss: 0.2078 - accuracy: 0.9486 - val_loss: 0.9364 - val_accuracy: 0.8150\n",
            "Epoch 12/20\n",
            "7982/7982 [==============================] - 1s 124us/step - loss: 0.1842 - accuracy: 0.9519 - val_loss: 0.9491 - val_accuracy: 0.8140\n",
            "Epoch 13/20\n",
            "7982/7982 [==============================] - 1s 136us/step - loss: 0.1671 - accuracy: 0.9530 - val_loss: 0.9680 - val_accuracy: 0.8090\n",
            "Epoch 14/20\n",
            "7982/7982 [==============================] - 2s 192us/step - loss: 0.1551 - accuracy: 0.9543 - val_loss: 0.9818 - val_accuracy: 0.8130\n",
            "Epoch 15/20\n",
            "7982/7982 [==============================] - 2s 196us/step - loss: 0.1422 - accuracy: 0.9540 - val_loss: 0.9982 - val_accuracy: 0.8060\n",
            "Epoch 16/20\n",
            "7982/7982 [==============================] - 1s 159us/step - loss: 0.1311 - accuracy: 0.9577 - val_loss: 1.0900 - val_accuracy: 0.7980\n",
            "Epoch 17/20\n",
            "7982/7982 [==============================] - 1s 130us/step - loss: 0.1276 - accuracy: 0.9548 - val_loss: 1.0340 - val_accuracy: 0.8110\n",
            "Epoch 18/20\n",
            "7982/7982 [==============================] - 1s 126us/step - loss: 0.1232 - accuracy: 0.9565 - val_loss: 1.0605 - val_accuracy: 0.8100\n",
            "Epoch 19/20\n",
            "7982/7982 [==============================] - 1s 126us/step - loss: 0.1203 - accuracy: 0.9563 - val_loss: 1.1347 - val_accuracy: 0.7930\n",
            "Epoch 20/20\n",
            "7982/7982 [==============================] - 1s 125us/step - loss: 0.1151 - accuracy: 0.9583 - val_loss: 1.1144 - val_accuracy: 0.8080\n",
            "Train on 7982 samples, validate on 1000 samples\n",
            "Epoch 1/9\n",
            "7982/7982 [==============================] - 1s 135us/step - loss: 2.5659 - accuracy: 0.5425 - val_loss: 1.6937 - val_accuracy: 0.6580\n",
            "Epoch 2/9\n",
            "7982/7982 [==============================] - 1s 125us/step - loss: 1.3959 - accuracy: 0.7060 - val_loss: 1.2804 - val_accuracy: 0.7180\n",
            "Epoch 3/9\n",
            "7982/7982 [==============================] - 1s 127us/step - loss: 1.0346 - accuracy: 0.7777 - val_loss: 1.1190 - val_accuracy: 0.7540\n",
            "Epoch 4/9\n",
            "7982/7982 [==============================] - 1s 127us/step - loss: 0.8145 - accuracy: 0.8305 - val_loss: 1.0133 - val_accuracy: 0.7850\n",
            "Epoch 5/9\n",
            "7982/7982 [==============================] - 1s 128us/step - loss: 0.6457 - accuracy: 0.8652 - val_loss: 0.9555 - val_accuracy: 0.8150\n",
            "Epoch 6/9\n",
            "7982/7982 [==============================] - 1s 126us/step - loss: 0.5144 - accuracy: 0.8920 - val_loss: 0.9117 - val_accuracy: 0.8100\n",
            "Epoch 7/9\n",
            "7982/7982 [==============================] - 1s 127us/step - loss: 0.4117 - accuracy: 0.9137 - val_loss: 0.8967 - val_accuracy: 0.8110\n",
            "Epoch 8/9\n",
            "7982/7982 [==============================] - 1s 125us/step - loss: 0.3362 - accuracy: 0.9285 - val_loss: 0.9002 - val_accuracy: 0.8180\n",
            "Epoch 9/9\n",
            "7982/7982 [==============================] - 1s 126us/step - loss: 0.2774 - accuracy: 0.9394 - val_loss: 0.9057 - val_accuracy: 0.8120\n",
            "2246/2246 [==============================] - 0s 85us/step\n"
          ],
          "name": "stdout"
        },
        {
          "output_type": "execute_result",
          "data": {
            "text/plain": [
              "[0.98509706329896, 0.7849510312080383]"
            ]
          },
          "metadata": {
            "tags": []
          },
          "execution_count": 17
        }
      ]
    },
    {
      "cell_type": "markdown",
      "metadata": {
        "id": "CIXo-8-bir-V",
        "colab_type": "text"
      },
      "source": [
        "#1. 더 크거나 작은 층 사용"
      ]
    },
    {
      "cell_type": "markdown",
      "metadata": {
        "id": "r_28uWJHizPj",
        "colab_type": "text"
      },
      "source": [
        "1-1. 더 큰 층 사용(128개)"
      ]
    },
    {
      "cell_type": "code",
      "metadata": {
        "id": "t2ivJcF1i3uG",
        "colab_type": "code",
        "outputId": "242c0845-acd2-44cc-f80e-0dd357385576",
        "colab": {
          "base_uri": "https://localhost:8080/",
          "height": 415
        }
      },
      "source": [
        "model = models.Sequential()\n",
        "model.add(layers.Dense(64, activation='relu', input_shape=(10000,)))\n",
        "model.add(layers.Dense(64, activation='relu'))\n",
        "model.add(layers.Dense(46, activation='softmax'))\n",
        "\n",
        "model.compile(optimizer='rmsprop', loss='categorical_crossentropy', metrics=['accuracy'])\n",
        "model.fit(partial_x_train, partial_y_train, epochs=9, batch_size=512, validation_data=(x_val, y_val))\n",
        "results = model.evaluate(x_test, one_hot_test_labels)\n",
        "\n",
        "results"
      ],
      "execution_count": 0,
      "outputs": [
        {
          "output_type": "stream",
          "text": [
            "Train on 7982 samples, validate on 1000 samples\n",
            "Epoch 1/9\n",
            "7982/7982 [==============================] - 2s 200us/step - loss: 2.6829 - accuracy: 0.5440 - val_loss: 1.7765 - val_accuracy: 0.6620\n",
            "Epoch 2/9\n",
            "7982/7982 [==============================] - 1s 126us/step - loss: 1.4474 - accuracy: 0.7078 - val_loss: 1.3193 - val_accuracy: 0.7230\n",
            "Epoch 3/9\n",
            "7982/7982 [==============================] - 1s 127us/step - loss: 1.0761 - accuracy: 0.7719 - val_loss: 1.2133 - val_accuracy: 0.7180\n",
            "Epoch 4/9\n",
            "7982/7982 [==============================] - 1s 125us/step - loss: 0.8575 - accuracy: 0.8212 - val_loss: 1.1043 - val_accuracy: 0.7610\n",
            "Epoch 5/9\n",
            "7982/7982 [==============================] - 1s 126us/step - loss: 0.6906 - accuracy: 0.8577 - val_loss: 0.9824 - val_accuracy: 0.8050\n",
            "Epoch 6/9\n",
            "7982/7982 [==============================] - 1s 124us/step - loss: 0.5587 - accuracy: 0.8846 - val_loss: 0.9458 - val_accuracy: 0.7990\n",
            "Epoch 7/9\n",
            "7982/7982 [==============================] - 1s 125us/step - loss: 0.4565 - accuracy: 0.9055 - val_loss: 0.9207 - val_accuracy: 0.8080\n",
            "Epoch 8/9\n",
            "7982/7982 [==============================] - 1s 123us/step - loss: 0.3724 - accuracy: 0.9231 - val_loss: 0.9028 - val_accuracy: 0.8150\n",
            "Epoch 9/9\n",
            "7982/7982 [==============================] - 1s 124us/step - loss: 0.3094 - accuracy: 0.9322 - val_loss: 0.8885 - val_accuracy: 0.8200\n",
            "2246/2246 [==============================] - 0s 85us/step\n"
          ],
          "name": "stdout"
        },
        {
          "output_type": "execute_result",
          "data": {
            "text/plain": [
              "[0.9808741503279865, 0.790739119052887]"
            ]
          },
          "metadata": {
            "tags": []
          },
          "execution_count": 20
        }
      ]
    },
    {
      "cell_type": "markdown",
      "metadata": {
        "id": "2QuMpabai191",
        "colab_type": "text"
      },
      "source": [
        "1-2. 더 작은 층 사용(32개)"
      ]
    },
    {
      "cell_type": "code",
      "metadata": {
        "id": "HaX7_K5TjqyW",
        "colab_type": "code",
        "outputId": "2b61e61a-a296-4852-d21b-14d49c61ad65",
        "colab": {
          "base_uri": "https://localhost:8080/",
          "height": 415
        }
      },
      "source": [
        "model = models.Sequential()\n",
        "model.add(layers.Dense(32, activation='relu', input_shape=(10000,)))\n",
        "model.add(layers.Dense(32, activation='relu'))\n",
        "model.add(layers.Dense(46, activation='softmax'))\n",
        "\n",
        "model.compile(optimizer='rmsprop', loss='categorical_crossentropy', metrics=['accuracy'])\n",
        "model.fit(partial_x_train, partial_y_train, epochs=9, batch_size=512, validation_data=(x_val, y_val))\n",
        "results = model.evaluate(x_test, one_hot_test_labels)\n",
        "\n",
        "results"
      ],
      "execution_count": 0,
      "outputs": [
        {
          "output_type": "stream",
          "text": [
            "Train on 7982 samples, validate on 1000 samples\n",
            "Epoch 1/9\n",
            "7982/7982 [==============================] - 1s 111us/step - loss: 3.1404 - accuracy: 0.4043 - val_loss: 2.4218 - val_accuracy: 0.5260\n",
            "Epoch 2/9\n",
            "7982/7982 [==============================] - 1s 101us/step - loss: 2.0054 - accuracy: 0.6394 - val_loss: 1.7286 - val_accuracy: 0.6760\n",
            "Epoch 3/9\n",
            "7982/7982 [==============================] - 1s 98us/step - loss: 1.4720 - accuracy: 0.7087 - val_loss: 1.3977 - val_accuracy: 0.7040\n",
            "Epoch 4/9\n",
            "7982/7982 [==============================] - 1s 98us/step - loss: 1.1844 - accuracy: 0.7531 - val_loss: 1.2227 - val_accuracy: 0.7340\n",
            "Epoch 5/9\n",
            "7982/7982 [==============================] - 1s 100us/step - loss: 0.9933 - accuracy: 0.7878 - val_loss: 1.1203 - val_accuracy: 0.7600\n",
            "Epoch 6/9\n",
            "7982/7982 [==============================] - 1s 98us/step - loss: 0.8438 - accuracy: 0.8178 - val_loss: 1.0545 - val_accuracy: 0.7620\n",
            "Epoch 7/9\n",
            "7982/7982 [==============================] - 1s 118us/step - loss: 0.7231 - accuracy: 0.8444 - val_loss: 0.9962 - val_accuracy: 0.7860\n",
            "Epoch 8/9\n",
            "7982/7982 [==============================] - 1s 147us/step - loss: 0.6218 - accuracy: 0.8662 - val_loss: 0.9630 - val_accuracy: 0.7870\n",
            "Epoch 9/9\n",
            "7982/7982 [==============================] - 1s 99us/step - loss: 0.5336 - accuracy: 0.8882 - val_loss: 0.9336 - val_accuracy: 0.8010\n",
            "2246/2246 [==============================] - 0s 70us/step\n"
          ],
          "name": "stdout"
        },
        {
          "output_type": "execute_result",
          "data": {
            "text/plain": [
              "[1.0378151046093935, 0.7707034945487976]"
            ]
          },
          "metadata": {
            "tags": []
          },
          "execution_count": 21
        }
      ]
    },
    {
      "cell_type": "markdown",
      "metadata": {
        "id": "YK_wbRlOj45r",
        "colab_type": "text"
      },
      "source": [
        "#2. 한 개나 세 개의 은닉층 사용"
      ]
    },
    {
      "cell_type": "markdown",
      "metadata": {
        "id": "MtGyoakjkCdv",
        "colab_type": "text"
      },
      "source": [
        "2-1. 한 개의 은닉층 사용"
      ]
    },
    {
      "cell_type": "code",
      "metadata": {
        "id": "eF2EpR6CkD4a",
        "colab_type": "code",
        "outputId": "c1b2a9e3-d642-4387-e9df-12ef1afbfddb",
        "colab": {
          "base_uri": "https://localhost:8080/",
          "height": 415
        }
      },
      "source": [
        "model = models.Sequential()\n",
        "model.add(layers.Dense(64, activation='relu', input_shape=(10000,)))\n",
        "model.add(layers.Dense(46, activation='softmax'))\n",
        "\n",
        "model.compile(optimizer='rmsprop', loss='categorical_crossentropy', metrics=['accuracy'])\n",
        "model.fit(partial_x_train, partial_y_train, epochs=9, batch_size=512, validation_data=(x_val, y_val))\n",
        "results = model.evaluate(x_test, one_hot_test_labels)\n",
        "\n",
        "results"
      ],
      "execution_count": 0,
      "outputs": [
        {
          "output_type": "stream",
          "text": [
            "Train on 7982 samples, validate on 1000 samples\n",
            "Epoch 1/9\n",
            "7982/7982 [==============================] - 1s 176us/step - loss: 2.5348 - accuracy: 0.5571 - val_loss: 1.7677 - val_accuracy: 0.6520\n",
            "Epoch 2/9\n",
            "7982/7982 [==============================] - 1s 124us/step - loss: 1.4410 - accuracy: 0.7197 - val_loss: 1.3343 - val_accuracy: 0.7260\n",
            "Epoch 3/9\n",
            "7982/7982 [==============================] - 1s 125us/step - loss: 1.0566 - accuracy: 0.7881 - val_loss: 1.1373 - val_accuracy: 0.7570\n",
            "Epoch 4/9\n",
            "7982/7982 [==============================] - 1s 124us/step - loss: 0.8257 - accuracy: 0.8320 - val_loss: 1.0160 - val_accuracy: 0.7940\n",
            "Epoch 5/9\n",
            "7982/7982 [==============================] - 1s 125us/step - loss: 0.6629 - accuracy: 0.8678 - val_loss: 0.9359 - val_accuracy: 0.8140\n",
            "Epoch 6/9\n",
            "7982/7982 [==============================] - 1s 124us/step - loss: 0.5404 - accuracy: 0.8924 - val_loss: 0.8923 - val_accuracy: 0.8160\n",
            "Epoch 7/9\n",
            "7982/7982 [==============================] - 1s 124us/step - loss: 0.4430 - accuracy: 0.9127 - val_loss: 0.8659 - val_accuracy: 0.8190\n",
            "Epoch 8/9\n",
            "7982/7982 [==============================] - 1s 126us/step - loss: 0.3699 - accuracy: 0.9248 - val_loss: 0.8435 - val_accuracy: 0.8180\n",
            "Epoch 9/9\n",
            "7982/7982 [==============================] - 1s 125us/step - loss: 0.3113 - accuracy: 0.9336 - val_loss: 0.8287 - val_accuracy: 0.8230\n",
            "2246/2246 [==============================] - 0s 97us/step\n"
          ],
          "name": "stdout"
        },
        {
          "output_type": "execute_result",
          "data": {
            "text/plain": [
              "[0.904186498662349, 0.7987533211708069]"
            ]
          },
          "metadata": {
            "tags": []
          },
          "execution_count": 22
        }
      ]
    },
    {
      "cell_type": "markdown",
      "metadata": {
        "id": "2tTQN147kKSY",
        "colab_type": "text"
      },
      "source": [
        "2-2. 세 개의 은닉층 사용"
      ]
    },
    {
      "cell_type": "code",
      "metadata": {
        "id": "hQiPZw_CkM_i",
        "colab_type": "code",
        "outputId": "95a60deb-33d5-48ab-d05c-3d71bce22f47",
        "colab": {
          "base_uri": "https://localhost:8080/",
          "height": 415
        }
      },
      "source": [
        "model = models.Sequential()\n",
        "model.add(layers.Dense(64, activation='relu', input_shape=(10000,)))\n",
        "model.add(layers.Dense(64, activation='relu'))\n",
        "model.add(layers.Dense(64, activation='relu'))\n",
        "model.add(layers.Dense(46, activation='softmax'))\n",
        "\n",
        "model.compile(optimizer='rmsprop', loss='categorical_crossentropy', metrics=['accuracy'])\n",
        "model.fit(partial_x_train, partial_y_train, epochs=9, batch_size=512, validation_data=(x_val, y_val))\n",
        "results = model.evaluate(x_test, one_hot_test_labels)\n",
        "\n",
        "results"
      ],
      "execution_count": 0,
      "outputs": [
        {
          "output_type": "stream",
          "text": [
            "Train on 7982 samples, validate on 1000 samples\n",
            "Epoch 1/9\n",
            "7982/7982 [==============================] - 1s 138us/step - loss: 2.6269 - accuracy: 0.4559 - val_loss: 1.7303 - val_accuracy: 0.6490\n",
            "Epoch 2/9\n",
            "7982/7982 [==============================] - 1s 128us/step - loss: 1.4498 - accuracy: 0.6949 - val_loss: 1.3277 - val_accuracy: 0.7050\n",
            "Epoch 3/9\n",
            "7982/7982 [==============================] - 1s 128us/step - loss: 1.1021 - accuracy: 0.7598 - val_loss: 1.1617 - val_accuracy: 0.7530\n",
            "Epoch 4/9\n",
            "7982/7982 [==============================] - 1s 126us/step - loss: 0.8789 - accuracy: 0.8101 - val_loss: 1.0784 - val_accuracy: 0.7550\n",
            "Epoch 5/9\n",
            "7982/7982 [==============================] - 1s 129us/step - loss: 0.7137 - accuracy: 0.8443 - val_loss: 1.0231 - val_accuracy: 0.7820\n",
            "Epoch 6/9\n",
            "7982/7982 [==============================] - 1s 127us/step - loss: 0.5664 - accuracy: 0.8796 - val_loss: 1.0270 - val_accuracy: 0.7720\n",
            "Epoch 7/9\n",
            "7982/7982 [==============================] - 1s 127us/step - loss: 0.4628 - accuracy: 0.9005 - val_loss: 1.0351 - val_accuracy: 0.7950\n",
            "Epoch 8/9\n",
            "7982/7982 [==============================] - 1s 127us/step - loss: 0.3756 - accuracy: 0.9184 - val_loss: 0.9868 - val_accuracy: 0.8100\n",
            "Epoch 9/9\n",
            "7982/7982 [==============================] - 1s 128us/step - loss: 0.3081 - accuracy: 0.9340 - val_loss: 0.9985 - val_accuracy: 0.8100\n",
            "2246/2246 [==============================] - 0s 88us/step\n"
          ],
          "name": "stdout"
        },
        {
          "output_type": "execute_result",
          "data": {
            "text/plain": [
              "[1.096121485490196, 0.7818343639373779]"
            ]
          },
          "metadata": {
            "tags": []
          },
          "execution_count": 23
        }
      ]
    }
  ]
}