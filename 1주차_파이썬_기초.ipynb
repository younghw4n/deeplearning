{
  "nbformat": 4,
  "nbformat_minor": 0,
  "metadata": {
    "colab": {
      "name": "1주차_파이썬 기초.ipynb",
      "provenance": [],
      "collapsed_sections": [],
      "include_colab_link": true
    },
    "kernelspec": {
      "name": "python3",
      "display_name": "Python 3"
    },
    "accelerator": "GPU"
  },
  "cells": [
    {
      "cell_type": "markdown",
      "metadata": {
        "id": "view-in-github",
        "colab_type": "text"
      },
      "source": [
        "<a href=\"https://colab.research.google.com/github/younghw4n/deeplearning/blob/master/1%EC%A3%BC%EC%B0%A8_%ED%8C%8C%EC%9D%B4%EC%8D%AC_%EA%B8%B0%EC%B4%88.ipynb\" target=\"_parent\"><img src=\"https://colab.research.google.com/assets/colab-badge.svg\" alt=\"Open In Colab\"/></a>"
      ]
    },
    {
      "cell_type": "markdown",
      "metadata": {
        "id": "G11OK34UbiD_",
        "colab_type": "text"
      },
      "source": [
        "# 01. Python Basic 01\n",
        "Google Colab을 사용합니다. \n",
        "\n",
        "#### 실습목표\n",
        "1. 데이터 타입을 알고 있다. - 숫자, 문자, boolean\n",
        "2. 제어문을 사용할 수 있고, 제어문이 사용된 소스코드를 이해할 수 있다. \n",
        "3. 리스트(List)를 이해하고, 리스트가 사용된 소스코드를 이해할 수 있다. 리스트를 사용할 수 있다.\n",
        "5. 함수(Function)가 무엇인지 알고, 함수가 사용된 소스코드를 이해할 수 있다. 간단한 함수를 작성할 수 있다. "
      ]
    },
    {
      "cell_type": "markdown",
      "metadata": {
        "id": "E8z2Wl_abiED",
        "colab_type": "text"
      },
      "source": [
        "## Google Colba 단축키\n",
        "* Cell 실행: Control + Enter\n",
        "* Cell 실행 + 다음셀 이동: Shift + Enter\n",
        "* Code Completion: Tab\n",
        "* Tooltip 보기: Shift + Tab\n",
        "* 셀 생성 & 삭제: Ctrl+M + A (셀을 선택된 셀 위에 생성), Ctrl+M + B (셀을 선택된 셀 아래에 생성), Ctrl+M + D (선택된 셀을 삭제)\n",
        "* Undo: Ctrl+M + Z\n",
        "* 줄 번호 보기: Ctrl+M + L\n",
        "* Command Palette 보기: Shift + Control/Command + P\n",
        "* 단축키 모음 보기: Ctrl + M + H\n"
      ]
    },
    {
      "cell_type": "markdown",
      "metadata": {
        "id": "rdeh2iI9biEE",
        "colab_type": "text"
      },
      "source": [
        "# 01 파이썬 기초 문법\n",
        "\n",
        "1. hello python\n",
        "2. Variables\n",
        "3. Type & Operator - Number\n",
        "4. Type & Operator - String\n",
        "5. Container - List\n",
        "6. Slicing"
      ]
    },
    {
      "cell_type": "markdown",
      "metadata": {
        "id": "Ob1dL29kbiEG",
        "colab_type": "text"
      },
      "source": [
        "## 1. Hello Python"
      ]
    },
    {
      "cell_type": "code",
      "metadata": {
        "id": "OvP26EEN3IkG",
        "colab_type": "code",
        "outputId": "1801d003-8801-4d4e-8000-27dc0099ad40",
        "colab": {
          "base_uri": "https://localhost:8080/",
          "height": 35
        }
      },
      "source": [
        "print('Hello, Python World!')\n",
        "\n",
        "# !주의 \n",
        "# 2.0 버전에서는 '()' 괄호가 없는 형태로 print문을 처리할 수 있었다. \n",
        "# 3.0 버전에서 python 코드를 들고와서 돌렸는데 에러가 날 때에는 print 처리가 어떻게 되어있는지 확인해 봐야한다.\n",
        "# print \"Hello, Python World!!\""
      ],
      "execution_count": 0,
      "outputs": [
        {
          "output_type": "stream",
          "text": [
            "Hello, Python World!\n"
          ],
          "name": "stdout"
        }
      ]
    },
    {
      "cell_type": "code",
      "metadata": {
        "id": "A0cEsbC7biEI",
        "colab_type": "code",
        "outputId": "b4db57ed-1bd2-43ed-dcdd-a15f78bd05fa",
        "colab": {
          "base_uri": "https://localhost:8080/",
          "height": 136
        }
      },
      "source": [
        "print \"Hello, Python World!!\""
      ],
      "execution_count": 0,
      "outputs": [
        {
          "output_type": "error",
          "ename": "SyntaxError",
          "evalue": "ignored",
          "traceback": [
            "\u001b[0;36m  File \u001b[0;32m\"<ipython-input-2-1f086601d694>\"\u001b[0;36m, line \u001b[0;32m1\u001b[0m\n\u001b[0;31m    print \"Hello, Python World!!\"\u001b[0m\n\u001b[0m                                ^\u001b[0m\n\u001b[0;31mSyntaxError\u001b[0m\u001b[0;31m:\u001b[0m Missing parentheses in call to 'print'. Did you mean print(\"Hello, Python World!!\")?\n"
          ]
        }
      ]
    },
    {
      "cell_type": "markdown",
      "metadata": {
        "id": "r9oP2F99fBbh",
        "colab_type": "text"
      },
      "source": [
        "## 도움말"
      ]
    },
    {
      "cell_type": "code",
      "metadata": {
        "id": "g49mXZtMbiEW",
        "colab_type": "code",
        "colab": {}
      },
      "source": [
        "# help '?' 이용, or Shift + Tab\n",
        "?print"
      ],
      "execution_count": 0,
      "outputs": []
    },
    {
      "cell_type": "code",
      "metadata": {
        "id": "LA-_jtHveuQ0",
        "colab_type": "code",
        "colab": {}
      },
      "source": [
        "# ?print 보다 더 편할 수도 있다.\n",
        "# print( 까지 입력하고 탭을 누르면 풍선 도움말이 나타난다. 직접 해보자.\n",
        "print()"
      ],
      "execution_count": 0,
      "outputs": []
    },
    {
      "cell_type": "markdown",
      "metadata": {
        "id": "zsOJ79rTbiEe",
        "colab_type": "text"
      },
      "source": [
        "## 2. Variables\n",
        "\n",
        "- 대소문자 구분함.\n",
        "- 알파벳 + 숫자 및 언더바\n",
        "- 변수 이름으로 변수에 담긴 값을 소환\n",
        "- 다중 할당"
      ]
    },
    {
      "cell_type": "code",
      "metadata": {
        "id": "4Kgn6P4EKlQi",
        "colab_type": "code",
        "outputId": "66600fea-f760-4850-b2d9-e2f8e56471c6",
        "colab": {
          "base_uri": "https://localhost:8080/",
          "height": 53
        }
      },
      "source": [
        "a = 3\n",
        "print(a)\n",
        "type(a)"
      ],
      "execution_count": 0,
      "outputs": [
        {
          "output_type": "stream",
          "text": [
            "3\n"
          ],
          "name": "stdout"
        },
        {
          "output_type": "execute_result",
          "data": {
            "text/plain": [
              "int"
            ]
          },
          "metadata": {
            "tags": []
          },
          "execution_count": 4
        }
      ]
    },
    {
      "cell_type": "code",
      "metadata": {
        "id": "uadrdFZgzcCJ",
        "colab_type": "code",
        "outputId": "93b31236-6a0b-48c9-8aca-8c605cce908b",
        "colab": {
          "base_uri": "https://localhost:8080/",
          "height": 53
        }
      },
      "source": [
        "a = 'ab'\n",
        "print(a)\n",
        "type(a)"
      ],
      "execution_count": 0,
      "outputs": [
        {
          "output_type": "stream",
          "text": [
            "ab\n"
          ],
          "name": "stdout"
        },
        {
          "output_type": "execute_result",
          "data": {
            "text/plain": [
              "str"
            ]
          },
          "metadata": {
            "tags": []
          },
          "execution_count": 5
        }
      ]
    },
    {
      "cell_type": "markdown",
      "metadata": {
        "id": "sJZekKPAbiEg",
        "colab_type": "text"
      },
      "source": [
        "# 변수 할당"
      ]
    },
    {
      "cell_type": "code",
      "metadata": {
        "id": "NPZMg1ePz5Xx",
        "colab_type": "code",
        "outputId": "78ee31a6-127d-418a-a4ad-93e12acaf949",
        "colab": {
          "base_uri": "https://localhost:8080/",
          "height": 53
        }
      },
      "source": [
        "# 변수 할당\n",
        "midterm = 65\n",
        "final = 90\n",
        "quiz = 99\n",
        "\n",
        "print(quiz)\n",
        "\n",
        "results = midterm*0.4 + final*0.4 + quiz*0.2\n",
        "print(results)"
      ],
      "execution_count": 0,
      "outputs": [
        {
          "output_type": "stream",
          "text": [
            "99\n",
            "81.8\n"
          ],
          "name": "stdout"
        }
      ]
    },
    {
      "cell_type": "code",
      "metadata": {
        "id": "bxFVrBwaaDEx",
        "colab_type": "code",
        "outputId": "2007ad27-0cde-4360-f7d8-c7c5dbf45f0a",
        "colab": {
          "base_uri": "https://localhost:8080/",
          "height": 35
        }
      },
      "source": [
        "# 다중 할당\n",
        "midterm, final, quiz = 65, 90, 99\n",
        "results = midterm*0.4 + final*0.4 + quiz*0.2\n",
        "print(results)"
      ],
      "execution_count": 0,
      "outputs": [
        {
          "output_type": "stream",
          "text": [
            "81.8\n"
          ],
          "name": "stdout"
        }
      ]
    },
    {
      "cell_type": "markdown",
      "metadata": {
        "id": "NSBe3_zrbiEm",
        "colab_type": "text"
      },
      "source": [
        "## 3. Type & Operator - Number\n",
        "\n",
        "- number: int, float\n",
        "- 산술 연산자 "
      ]
    },
    {
      "cell_type": "code",
      "metadata": {
        "id": "xHOFIK7bbiEo",
        "colab_type": "code",
        "outputId": "0b97766b-3dbd-4621-abfe-bbb54c4a904a",
        "colab": {
          "base_uri": "https://localhost:8080/",
          "height": 71
        }
      },
      "source": [
        "# 학점 규칙: 중간고사 40%, 기말고사 40%, 퀴즈 20%\n",
        "print(type(midterm))\n",
        "print(results)\n",
        "print(type(results))"
      ],
      "execution_count": 0,
      "outputs": [
        {
          "output_type": "stream",
          "text": [
            "<class 'int'>\n",
            "81.8\n",
            "<class 'float'>\n"
          ],
          "name": "stdout"
        }
      ]
    },
    {
      "cell_type": "code",
      "metadata": {
        "id": "7VXCaFH-aONN",
        "colab_type": "code",
        "outputId": "7cfa8575-a958-4b5f-db38-17ef8168555d",
        "colab": {
          "base_uri": "https://localhost:8080/",
          "height": 35
        }
      },
      "source": [
        "# int\n",
        "print(type(midterm))"
      ],
      "execution_count": 0,
      "outputs": [
        {
          "output_type": "stream",
          "text": [
            "<class 'int'>\n"
          ],
          "name": "stdout"
        }
      ]
    },
    {
      "cell_type": "code",
      "metadata": {
        "id": "t2uGioTqaP7S",
        "colab_type": "code",
        "outputId": "b55a4fff-8567-42ae-9968-10776f6c1914",
        "colab": {
          "base_uri": "https://localhost:8080/",
          "height": 53
        }
      },
      "source": [
        "# float\n",
        "a = 10/3\n",
        "print(a)\n",
        "print(type(a))"
      ],
      "execution_count": 0,
      "outputs": [
        {
          "output_type": "stream",
          "text": [
            "3.3333333333333335\n",
            "<class 'float'>\n"
          ],
          "name": "stdout"
        }
      ]
    },
    {
      "cell_type": "code",
      "metadata": {
        "id": "dmPRW34naRky",
        "colab_type": "code",
        "outputId": "f2a43ee1-3dff-4c0f-9bb1-430b518b8464",
        "colab": {
          "base_uri": "https://localhost:8080/",
          "height": 89
        }
      },
      "source": [
        "# complex\n",
        " comp_01 = complex(3,5)\n",
        " comp_02 = 3 + 5j\n",
        " \n",
        "print(comp_01)\n",
        "print(comp_02)\n",
        "print(type(comp_01))\n",
        "print(type(comp_02))"
      ],
      "execution_count": 0,
      "outputs": [
        {
          "output_type": "stream",
          "text": [
            "(3+5j)\n",
            "(3+5j)\n",
            "<class 'complex'>\n",
            "<class 'complex'>\n"
          ],
          "name": "stdout"
        }
      ]
    },
    {
      "cell_type": "markdown",
      "metadata": {
        "id": "fp7ETOAiagBP",
        "colab_type": "text"
      },
      "source": [
        "### 수리 연산자\n",
        "\n",
        "+, -, *, /\n",
        "\n",
        "% \n",
        "\n",
        "**\n",
        "\n",
        "//\n",
        "\n",
        "+=, -=, *=, /=\n",
        "\n",
        "위의 연산자 중 모르는 것을 구글 검색하고 예제를 만들어 보자."
      ]
    },
    {
      "cell_type": "code",
      "metadata": {
        "id": "NSTJS5EMkn8L",
        "colab_type": "code",
        "outputId": "d562d385-b212-4225-9253-d69b07e27066",
        "colab": {
          "base_uri": "https://localhost:8080/",
          "height": 35
        }
      },
      "source": [
        "10/7"
      ],
      "execution_count": 0,
      "outputs": [
        {
          "output_type": "execute_result",
          "data": {
            "text/plain": [
              "1.4285714285714286"
            ]
          },
          "metadata": {
            "tags": []
          },
          "execution_count": 16
        }
      ]
    },
    {
      "cell_type": "code",
      "metadata": {
        "id": "jXppriuKpcH9",
        "colab_type": "code",
        "outputId": "477d6b7f-3fd6-4206-e35b-54b6ef197a16",
        "colab": {
          "base_uri": "https://localhost:8080/",
          "height": 35
        }
      },
      "source": [
        "10%7"
      ],
      "execution_count": 0,
      "outputs": [
        {
          "output_type": "execute_result",
          "data": {
            "text/plain": [
              "3"
            ]
          },
          "metadata": {
            "tags": []
          },
          "execution_count": 17
        }
      ]
    },
    {
      "cell_type": "code",
      "metadata": {
        "id": "kAGzbkkPqOIB",
        "colab_type": "code",
        "outputId": "805452d0-bf03-4ab1-ed09-9cfc96b006a9",
        "colab": {
          "base_uri": "https://localhost:8080/",
          "height": 35
        }
      },
      "source": [
        "10**7"
      ],
      "execution_count": 0,
      "outputs": [
        {
          "output_type": "execute_result",
          "data": {
            "text/plain": [
              "10000000"
            ]
          },
          "metadata": {
            "tags": []
          },
          "execution_count": 18
        }
      ]
    },
    {
      "cell_type": "code",
      "metadata": {
        "id": "BERMd2qrqUi-",
        "colab_type": "code",
        "outputId": "7a1c4279-3886-451b-f93d-ea7bf1d2dd1f",
        "colab": {
          "base_uri": "https://localhost:8080/",
          "height": 35
        }
      },
      "source": [
        "10//7"
      ],
      "execution_count": 0,
      "outputs": [
        {
          "output_type": "execute_result",
          "data": {
            "text/plain": [
              "1"
            ]
          },
          "metadata": {
            "tags": []
          },
          "execution_count": 19
        }
      ]
    },
    {
      "cell_type": "code",
      "metadata": {
        "id": "ucAgOV5eqd8g",
        "colab_type": "code",
        "outputId": "3be75288-6969-492c-854e-2db50e968b21",
        "colab": {
          "base_uri": "https://localhost:8080/",
          "height": 35
        }
      },
      "source": [
        "a = 10\n",
        "a+=7\n",
        "print(a)"
      ],
      "execution_count": 0,
      "outputs": [
        {
          "output_type": "stream",
          "text": [
            "17\n"
          ],
          "name": "stdout"
        }
      ]
    },
    {
      "cell_type": "markdown",
      "metadata": {
        "id": "NiRe4wJBbiEt",
        "colab_type": "text"
      },
      "source": [
        "## 4. Type & Operator - String\n",
        "\n",
        "- string\n",
        "- print 활용\n",
        "- string slicing"
      ]
    },
    {
      "cell_type": "code",
      "metadata": {
        "colab_type": "code",
        "outputId": "07f844e1-9f92-4d9f-cb90-770baf3fcf99",
        "id": "k-ykOuXy2o6X",
        "colab": {
          "base_uri": "https://localhost:8080/",
          "height": 35
        }
      },
      "source": [
        "print(1, 2, 3)"
      ],
      "execution_count": 0,
      "outputs": [
        {
          "output_type": "stream",
          "text": [
            "1 2 3\n"
          ],
          "name": "stdout"
        }
      ]
    },
    {
      "cell_type": "code",
      "metadata": {
        "id": "oV16o_ij2prl",
        "colab_type": "code",
        "outputId": "e9d6085d-3a4c-4b48-a38f-c027890714eb",
        "colab": {
          "base_uri": "https://localhost:8080/",
          "height": 35
        }
      },
      "source": [
        "print('1\\t2\\t3')"
      ],
      "execution_count": 0,
      "outputs": [
        {
          "output_type": "stream",
          "text": [
            "1\t2\t3\n"
          ],
          "name": "stdout"
        }
      ]
    },
    {
      "cell_type": "code",
      "metadata": {
        "id": "jwXT6vuU2rbe",
        "colab_type": "code",
        "outputId": "ef9eda4b-6c26-4176-d139-9e92cb60fba1",
        "colab": {
          "base_uri": "https://localhost:8080/",
          "height": 35
        }
      },
      "source": [
        "print(1, 2, 3, sep='\\t')"
      ],
      "execution_count": 0,
      "outputs": [
        {
          "output_type": "stream",
          "text": [
            "1\t2\t3\n"
          ],
          "name": "stdout"
        }
      ]
    },
    {
      "cell_type": "code",
      "metadata": {
        "id": "8iQxxbyc2s0Z",
        "colab_type": "code",
        "outputId": "bc778d97-ec74-4f47-fecf-985675117165",
        "colab": {
          "base_uri": "https://localhost:8080/",
          "height": 71
        }
      },
      "source": [
        "print(1, 2, 3, sep='\\n')"
      ],
      "execution_count": 0,
      "outputs": [
        {
          "output_type": "stream",
          "text": [
            "1\n",
            "2\n",
            "3\n"
          ],
          "name": "stdout"
        }
      ]
    },
    {
      "cell_type": "code",
      "metadata": {
        "id": "e82WR9UK2y_8",
        "colab_type": "code",
        "outputId": "b59764fb-421e-466a-9b73-26d1497be1c0",
        "colab": {
          "base_uri": "https://localhost:8080/",
          "height": 71
        }
      },
      "source": [
        "print(3, end='\\t*\\t\\n\\n')\n",
        "print(5, end='*')"
      ],
      "execution_count": 0,
      "outputs": [
        {
          "output_type": "stream",
          "text": [
            "3\t*\t\n",
            "\n",
            "5*"
          ],
          "name": "stdout"
        }
      ]
    },
    {
      "cell_type": "code",
      "metadata": {
        "id": "YR_IcMGsbiEx",
        "colab_type": "code",
        "outputId": "51f3fb6f-a532-414a-9fba-aa9bc05528fc",
        "colab": {
          "base_uri": "https://localhost:8080/",
          "height": 89
        }
      },
      "source": [
        "# 문자열\n",
        "# 파이썬은 문자열에 대해 상당한 편의성을 지원합니다.\n",
        "\n",
        "thanks = 'thanks'\n",
        "name = '실무데이터분석'\n",
        "tn = thanks + '  ,  ' + name\n",
        "\n",
        "print(tn)\n",
        "print(len(thanks))\n",
        "print(len(name))\n",
        "print(len(tn))"
      ],
      "execution_count": 0,
      "outputs": [
        {
          "output_type": "stream",
          "text": [
            "thanks  ,  실무데이터분석\n",
            "6\n",
            "7\n",
            "18\n"
          ],
          "name": "stdout"
        }
      ]
    },
    {
      "cell_type": "code",
      "metadata": {
        "id": "PF4smKVVa7s_",
        "colab_type": "code",
        "outputId": "a13a3143-3250-4b0e-835c-c7af95a8f9b7",
        "colab": {
          "base_uri": "https://localhost:8080/",
          "height": 107
        }
      },
      "source": [
        "# multi line string \"\"\"으로 시작하고 끝나는 구간은 모두 문자 변수\n",
        "multilines = \"\"\"\n",
        "Hello, Python world\n",
        "- keras\n",
        "- anything\n",
        "\"\"\"\n",
        "print(multilines)"
      ],
      "execution_count": 0,
      "outputs": [
        {
          "output_type": "stream",
          "text": [
            "\n",
            "Hello, Python world\n",
            "- keras\n",
            "- anything\n",
            "\n"
          ],
          "name": "stdout"
        }
      ]
    },
    {
      "cell_type": "code",
      "metadata": {
        "id": "N8eTjNZ3BP8P",
        "colab_type": "code",
        "outputId": "39a0027e-120b-47f1-c993-9d1e0b0c5b63",
        "colab": {
          "base_uri": "https://localhost:8080/",
          "height": 35
        }
      },
      "source": [
        "print('여기에 %d를 출력하고 싶다' %(5))\n"
      ],
      "execution_count": 0,
      "outputs": [
        {
          "output_type": "stream",
          "text": [
            "여기에 5를 출력하고 싶다\n"
          ],
          "name": "stdout"
        }
      ]
    },
    {
      "cell_type": "code",
      "metadata": {
        "id": "xZ5TWxzsBQ_2",
        "colab_type": "code",
        "outputId": "e0a80a7a-04a7-4df9-9af5-9e89cc54c001",
        "colab": {
          "base_uri": "https://localhost:8080/",
          "height": 35
        }
      },
      "source": [
        "print('여기에 %s를 출력하고 싶다' %('5입니다'))"
      ],
      "execution_count": 0,
      "outputs": [
        {
          "output_type": "stream",
          "text": [
            "여기에 5입니다를 출력하고 싶다\n"
          ],
          "name": "stdout"
        }
      ]
    },
    {
      "cell_type": "code",
      "metadata": {
        "id": "DbXYSYcnBmCx",
        "colab_type": "code",
        "outputId": "5eac9692-11e8-44b8-c193-37e3623a7a24",
        "colab": {
          "base_uri": "https://localhost:8080/",
          "height": 35
        }
      },
      "source": [
        "print('%s는 %d %s' %('이 뒤에 오는 숫자는', 5, '입니다.'))"
      ],
      "execution_count": 0,
      "outputs": [
        {
          "output_type": "stream",
          "text": [
            "이 뒤에 오는 숫자는는 5 입니다.\n"
          ],
          "name": "stdout"
        }
      ]
    },
    {
      "cell_type": "code",
      "metadata": {
        "id": "AdNcXfqfBxKN",
        "colab_type": "code",
        "outputId": "aa71d088-b6fd-4f64-89e4-d78ac8d06520",
        "colab": {
          "base_uri": "https://localhost:8080/",
          "height": 35
        }
      },
      "source": [
        "print('{0}과 {1} 그리고 {1}과 {0}으로 출력됩니다.'.format('a', '한국'))"
      ],
      "execution_count": 0,
      "outputs": [
        {
          "output_type": "stream",
          "text": [
            "a과 한국 그리고 한국과 a으로 출력됩니다.\n"
          ],
          "name": "stdout"
        }
      ]
    },
    {
      "cell_type": "code",
      "metadata": {
        "id": "Js5D1OgPMCBR",
        "colab_type": "code",
        "outputId": "208ade31-5124-4fc0-f2c5-013342cb314f",
        "colab": {
          "base_uri": "https://localhost:8080/",
          "height": 35
        }
      },
      "source": [
        "print('%s는 %d %s' %('이 뒤에 오는 숫자는', results, '입니다.'))"
      ],
      "execution_count": 0,
      "outputs": [
        {
          "output_type": "stream",
          "text": [
            "이 뒤에 오는 숫자는는 81 입니다.\n"
          ],
          "name": "stdout"
        }
      ]
    },
    {
      "cell_type": "code",
      "metadata": {
        "id": "JMxqjvYta-ad",
        "colab_type": "code",
        "outputId": "3eb266bb-c932-47cd-b588-4d9dc06414c6",
        "colab": {
          "base_uri": "https://localhost:8080/",
          "height": 35
        }
      },
      "source": [
        "# 문자열 출력 활용 1\n",
        "print('이름 : %s의 결과값은 %d입니다.' %(name, results))"
      ],
      "execution_count": 0,
      "outputs": [
        {
          "output_type": "stream",
          "text": [
            "이름 : 실무데이터분석의 결과값은 81입니다.\n"
          ],
          "name": "stdout"
        }
      ]
    },
    {
      "cell_type": "code",
      "metadata": {
        "id": "KtXU7vdQa_wm",
        "colab_type": "code",
        "outputId": "da090f04-5598-4e07-d6f3-f03063e195d3",
        "colab": {
          "base_uri": "https://localhost:8080/",
          "height": 35
        }
      },
      "source": [
        "# 문자열 출력 활용 2\n",
        "print('{0}은 {1}이고, {0}은 {2}합니다.'.format(name, results, thanks))"
      ],
      "execution_count": 0,
      "outputs": [
        {
          "output_type": "stream",
          "text": [
            "실무데이터분석은 81.8이고, 실무데이터분석은 thanks합니다.\n"
          ],
          "name": "stdout"
        }
      ]
    },
    {
      "cell_type": "markdown",
      "metadata": {
        "id": "IClCZY3cbiFC",
        "colab_type": "text"
      },
      "source": [
        "## 5. Container - List\n",
        "\n",
        "- list \n",
        "- add & remove"
      ]
    },
    {
      "cell_type": "code",
      "metadata": {
        "id": "wNzyEoajbiFF",
        "colab_type": "code",
        "outputId": "8feaaab4-a9fb-415f-94a1-4a189e779add",
        "colab": {
          "base_uri": "https://localhost:8080/",
          "height": 35
        }
      },
      "source": [
        "# name, midterm, final, quiz = \"Geoffery Hinton\", 95, 65, 90\n",
        "# stu02 - name, midterm, final, quiz = \"Yann Lecun\", 80, 85, 90\n",
        "# stu03 - name, midterm, final, quiz = \"Yoshua Bengio\", 92, 88, 84\n",
        "# stu04 - name, midterm, final, quiz = \"Andrew Ng\", 75, 85, 100\n",
        "\n",
        "# 리스트 생성\n",
        "stu01 = [\"Geoffery Hinton\", 95, 65, 90]\n",
        "stu02 = [\"Yann Lecun\", 80, 85, 90]\n",
        "stu03 = [\"Yoshua Bengio\", 92, 88, 84]\n",
        "stu04 = [\"Andrew Ng\", 75, 85, 100]\n",
        "\n",
        "print(type(stu01))"
      ],
      "execution_count": 0,
      "outputs": [
        {
          "output_type": "stream",
          "text": [
            "<class 'list'>\n"
          ],
          "name": "stdout"
        }
      ]
    },
    {
      "cell_type": "code",
      "metadata": {
        "id": "QCVt5Ekj-KMb",
        "colab_type": "code",
        "outputId": "391f3d53-f557-4bcf-81c1-e9f72d4b6eaa",
        "colab": {
          "base_uri": "https://localhost:8080/",
          "height": 35
        }
      },
      "source": [
        "print(stu03)"
      ],
      "execution_count": 0,
      "outputs": [
        {
          "output_type": "stream",
          "text": [
            "['Yoshua Bengio', 92, 88, 84]\n"
          ],
          "name": "stdout"
        }
      ]
    },
    {
      "cell_type": "code",
      "metadata": {
        "id": "LpfWry0MrN0f",
        "colab_type": "code",
        "outputId": "1a3647d9-8f64-4087-e96d-93e1a021db67",
        "colab": {
          "base_uri": "https://localhost:8080/",
          "height": 35
        }
      },
      "source": [
        "print(stu03[0])"
      ],
      "execution_count": 0,
      "outputs": [
        {
          "output_type": "stream",
          "text": [
            "Yoshua Bengio\n"
          ],
          "name": "stdout"
        }
      ]
    },
    {
      "cell_type": "code",
      "metadata": {
        "id": "L3ICme7VbMpm",
        "colab_type": "code",
        "outputId": "3d74b671-5fef-4793-b096-1da7c6ef689c",
        "colab": {
          "base_uri": "https://localhost:8080/",
          "height": 53
        }
      },
      "source": [
        "# 리스트 요소 조회. 실행 전에 뭐가 나올지 먼저 짐작해보세요.\n",
        "print(stu01[1])\n",
        "print(stu01[3])"
      ],
      "execution_count": 0,
      "outputs": [
        {
          "output_type": "stream",
          "text": [
            "95\n",
            "90\n"
          ],
          "name": "stdout"
        }
      ]
    },
    {
      "cell_type": "code",
      "metadata": {
        "id": "STyBynAkbPGm",
        "colab_type": "code",
        "outputId": "3e5489c2-88e3-43cc-c8f9-6ded3a5c7fe8",
        "colab": {
          "base_uri": "https://localhost:8080/",
          "height": 35
        }
      },
      "source": [
        "# 2차원 리스트\n",
        "stu = [stu01, stu02, stu03, stu04]\n",
        "stu = [[\"Geoffery Hinton\", 95, 65, 90], stu02, stu03, stu04]\n",
        "\n",
        "print(type(stu01))"
      ],
      "execution_count": 0,
      "outputs": [
        {
          "output_type": "stream",
          "text": [
            "<class 'list'>\n"
          ],
          "name": "stdout"
        }
      ]
    },
    {
      "cell_type": "code",
      "metadata": {
        "id": "KQOpeAmo-fRD",
        "colab_type": "code",
        "outputId": "46fa2292-6f83-4411-b6c5-dead56ce0ffa",
        "colab": {
          "base_uri": "https://localhost:8080/",
          "height": 53
        }
      },
      "source": [
        "print(stu)\n",
        "print(stu[0])"
      ],
      "execution_count": 0,
      "outputs": [
        {
          "output_type": "stream",
          "text": [
            "[['Geoffery Hinton', 95, 65, 90], ['Yann Lecun', 80, 85, 90], ['Yoshua Bengio', 92, 88, 84], ['Andrew Ng', 75, 85, 100]]\n",
            "['Geoffery Hinton', 95, 65, 90]\n"
          ],
          "name": "stdout"
        }
      ]
    },
    {
      "cell_type": "code",
      "metadata": {
        "id": "MQRIO0lDbR00",
        "colab_type": "code",
        "outputId": "19467c41-f6ec-480e-ce95-103d31d64c9a",
        "colab": {
          "base_uri": "https://localhost:8080/",
          "height": 71
        }
      },
      "source": [
        "# 2차원 리스트 요소 조회. 실행 전에 뭐가 나올지 먼저 짐작해보세요.\n",
        "\n",
        "print(stu[0][0])\n",
        "print(stu[0][2])\n",
        "print(stu[2][3])"
      ],
      "execution_count": 0,
      "outputs": [
        {
          "output_type": "stream",
          "text": [
            "Geoffery Hinton\n",
            "65\n",
            "84\n"
          ],
          "name": "stdout"
        }
      ]
    },
    {
      "cell_type": "markdown",
      "metadata": {
        "id": "5D4q8liFcpM0",
        "colab_type": "text"
      },
      "source": [
        "#### list 좀 더 자세히"
      ]
    },
    {
      "cell_type": "code",
      "metadata": {
        "id": "9uByZnCcbXQE",
        "colab_type": "code",
        "outputId": "671cf6d8-6fb2-420b-9bc3-fe0302fd433a",
        "colab": {
          "base_uri": "https://localhost:8080/",
          "height": 35
        }
      },
      "source": [
        "li = [1,2]\n",
        "print(li)"
      ],
      "execution_count": 0,
      "outputs": [
        {
          "output_type": "stream",
          "text": [
            "[1, 2]\n"
          ],
          "name": "stdout"
        }
      ]
    },
    {
      "cell_type": "code",
      "metadata": {
        "id": "cKKqCUx_bjux",
        "colab_type": "code",
        "outputId": "cce78c7a-8551-42b2-9146-8f453b8bad00",
        "colab": {
          "base_uri": "https://localhost:8080/",
          "height": 53
        }
      },
      "source": [
        "print(li[0], li[1], sep='\\n')"
      ],
      "execution_count": 0,
      "outputs": [
        {
          "output_type": "stream",
          "text": [
            "1\n",
            "2\n"
          ],
          "name": "stdout"
        }
      ]
    },
    {
      "cell_type": "code",
      "metadata": {
        "id": "tnW-Dtfwbnxu",
        "colab_type": "code",
        "outputId": "82437b48-9c98-417a-d1d3-5b26b6664ba8",
        "colab": {
          "base_uri": "https://localhost:8080/",
          "height": 35
        }
      },
      "source": [
        "li = [1, 2, ['a', 'b']]\n",
        "print(li)"
      ],
      "execution_count": 0,
      "outputs": [
        {
          "output_type": "stream",
          "text": [
            "[1, 2, ['a', 'b']]\n"
          ],
          "name": "stdout"
        }
      ]
    },
    {
      "cell_type": "code",
      "metadata": {
        "id": "0J5dNyQnr8w1",
        "colab_type": "code",
        "outputId": "ed5295c9-d009-4c58-e03a-4b34761f1957",
        "colab": {
          "base_uri": "https://localhost:8080/",
          "height": 35
        }
      },
      "source": [
        "print(li[2][0])"
      ],
      "execution_count": 0,
      "outputs": [
        {
          "output_type": "stream",
          "text": [
            "a\n"
          ],
          "name": "stdout"
        }
      ]
    },
    {
      "cell_type": "code",
      "metadata": {
        "id": "0TsGUTjlbvT1",
        "colab_type": "code",
        "outputId": "3e06b99f-3208-417d-c9a3-da22eba61023",
        "colab": {
          "base_uri": "https://localhost:8080/",
          "height": 35
        }
      },
      "source": [
        "print(li[2])"
      ],
      "execution_count": 0,
      "outputs": [
        {
          "output_type": "stream",
          "text": [
            "['a', 'b']\n"
          ],
          "name": "stdout"
        }
      ]
    },
    {
      "cell_type": "code",
      "metadata": {
        "id": "VptPr5XScE6M",
        "colab_type": "code",
        "outputId": "b98b3d52-9e43-4672-a493-ba581d7d4d09",
        "colab": {
          "base_uri": "https://localhost:8080/",
          "height": 35
        }
      },
      "source": [
        "print(li[2][1])"
      ],
      "execution_count": 0,
      "outputs": [
        {
          "output_type": "stream",
          "text": [
            "b\n"
          ],
          "name": "stdout"
        }
      ]
    },
    {
      "cell_type": "code",
      "metadata": {
        "id": "-uMgYENWcL6F",
        "colab_type": "code",
        "outputId": "5d024b00-5bc9-4e66-ae52-002cb8ed5f89",
        "colab": {
          "base_uri": "https://localhost:8080/",
          "height": 35
        }
      },
      "source": [
        "li = [1, 2, ['a', 'b'], [100, 200, 300, 500]]\n",
        "print(li)"
      ],
      "execution_count": 0,
      "outputs": [
        {
          "output_type": "stream",
          "text": [
            "[1, 2, ['a', 'b'], [100, 200, 300, 500]]\n"
          ],
          "name": "stdout"
        }
      ]
    },
    {
      "cell_type": "code",
      "metadata": {
        "id": "Ia9Z1yuicX9r",
        "colab_type": "code",
        "outputId": "577b7249-6c7f-4bb1-8723-cffa64f96959",
        "colab": {
          "base_uri": "https://localhost:8080/",
          "height": 35
        }
      },
      "source": [
        "print(li[3][2])"
      ],
      "execution_count": 0,
      "outputs": [
        {
          "output_type": "stream",
          "text": [
            "300\n"
          ],
          "name": "stdout"
        }
      ]
    },
    {
      "cell_type": "code",
      "metadata": {
        "id": "oaTZ5AtmbiFL",
        "colab_type": "code",
        "outputId": "1effb73a-c1a4-4815-9491-2e831338a8a7",
        "colab": {
          "base_uri": "https://localhost:8080/",
          "height": 35
        }
      },
      "source": [
        "# stu01 - name, midterm, finals, quiz = \"Geoffery Hinton\", 95, 65, 90\n",
        "# stu02 - name, midterm, final, quiz = \"Yann Lecun\", 80, 85, 90\n",
        "# stu03 - name, midterm, final, quiz = \"Yoshua Bengio\", 92, 88, 84\n",
        "# stu04 - name, midterm, final, quiz = \"Andrew Ng\", 75, 85, 100\n",
        "\n",
        "# 리스트 생성\n",
        "stu01 = [\"Geoffery Hinton\", 95, 65, 90]\n",
        "stu02 = [\"Yann Lecun\", 80, 85, 90]\n",
        "stu03 = [\"Yoshua Bengio\", 92, 88, 84]\n",
        "stu04 = [\"Andrew Ng\", 75, 85, 100]\n",
        "\n",
        "print(type(stu01))"
      ],
      "execution_count": 0,
      "outputs": [
        {
          "output_type": "stream",
          "text": [
            "<class 'list'>\n"
          ],
          "name": "stdout"
        }
      ]
    },
    {
      "cell_type": "code",
      "metadata": {
        "id": "DBLk-v8Cc5v7",
        "colab_type": "code",
        "outputId": "755d840b-bf83-48a8-c6ec-d85c9d03aac5",
        "colab": {
          "base_uri": "https://localhost:8080/",
          "height": 53
        }
      },
      "source": [
        "## 요소 추가하기 \n",
        "print(stu01)\n",
        "stu01.append(100)\n",
        "print(stu01)"
      ],
      "execution_count": 0,
      "outputs": [
        {
          "output_type": "stream",
          "text": [
            "['Geoffery Hinton', 95, 65, 90]\n",
            "['Geoffery Hinton', 95, 65, 90, 100]\n"
          ],
          "name": "stdout"
        }
      ]
    },
    {
      "cell_type": "code",
      "metadata": {
        "id": "WiGpDhhLc7zr",
        "colab_type": "code",
        "outputId": "204e2388-60e1-4a34-8c87-64a35741da0a",
        "colab": {
          "base_uri": "https://localhost:8080/",
          "height": 53
        }
      },
      "source": [
        "## 요소 제거하기 \n",
        "print(stu01)\n",
        "del stu01[0]\n",
        "print(stu01)"
      ],
      "execution_count": 0,
      "outputs": [
        {
          "output_type": "stream",
          "text": [
            "['Geoffery Hinton', 95, 65, 90, 100]\n",
            "[95, 65, 90, 100]\n"
          ],
          "name": "stdout"
        }
      ]
    },
    {
      "cell_type": "code",
      "metadata": {
        "id": "0zfctwVmdCTP",
        "colab_type": "code",
        "outputId": "6fc921c5-5e92-452d-94ac-cd12bdc399c4",
        "colab": {
          "base_uri": "https://localhost:8080/",
          "height": 53
        }
      },
      "source": [
        "## 요소 변경하기\n",
        "print(stu01)\n",
        "stu01[0] = 99\n",
        "print(stu01)"
      ],
      "execution_count": 0,
      "outputs": [
        {
          "output_type": "stream",
          "text": [
            "[95, 65, 90, 100]\n",
            "[99, 65, 90, 100]\n"
          ],
          "name": "stdout"
        }
      ]
    },
    {
      "cell_type": "code",
      "metadata": {
        "id": "La2S3eERdEXs",
        "colab_type": "code",
        "outputId": "0ee31344-8369-401b-81f4-1e38aff9bd9e",
        "colab": {
          "base_uri": "https://localhost:8080/",
          "height": 53
        }
      },
      "source": [
        "## 리스트 복제\n",
        "stu05 = stu01\n",
        "print('stu05: ', stu05)\n",
        "stu06 = stu01.copy()\n",
        "print('stu06: ', stu06)"
      ],
      "execution_count": 0,
      "outputs": [
        {
          "output_type": "stream",
          "text": [
            "stu05:  [99, 65, 90, 100]\n",
            "stu06:  [99, 65, 90, 100]\n"
          ],
          "name": "stdout"
        }
      ]
    },
    {
      "cell_type": "code",
      "metadata": {
        "id": "trKT1GNNdHKe",
        "colab_type": "code",
        "outputId": "175293b5-7c16-4695-872d-69475a4f00ee",
        "colab": {
          "base_uri": "https://localhost:8080/",
          "height": 125
        }
      },
      "source": [
        "## 리스트 복제 차이\n",
        "stucp = stu01\n",
        "print('stu01: ', stu01)\n",
        "print('stucp: ', stucp)\n",
        "print('----------')\n",
        "stu01[1] = 30000\n",
        "print('stu01: ', stu01)\n",
        "print('stucp: ', stucp)\n",
        "print('stu06: ', stu06)"
      ],
      "execution_count": 0,
      "outputs": [
        {
          "output_type": "stream",
          "text": [
            "stu01:  [99, 65, 90, 100]\n",
            "stucp:  [99, 65, 90, 100]\n",
            "----------\n",
            "stu01:  [99, 30000, 90, 100]\n",
            "stucp:  [99, 30000, 90, 100]\n",
            "stu06:  [99, 65, 90, 100]\n"
          ],
          "name": "stdout"
        }
      ]
    },
    {
      "cell_type": "markdown",
      "metadata": {
        "id": "-w5LIXEWbiFt",
        "colab_type": "text"
      },
      "source": [
        "### **과제 01. 과제 제출일은 3/22 일요일 자정까지 입니다.**"
      ]
    },
    {
      "cell_type": "code",
      "metadata": {
        "id": "xRibzItueU7O",
        "colab_type": "code",
        "colab": {}
      },
      "source": [
        "# 각 리스트의 요소는 name, midterm, quiz, final입니다. \n",
        "stu01 = [\"Geoffery Hinton\", 95, 65, 90]\n",
        "stu02 = [\"Yann Lecun\", 80, 85, 90]\n",
        "stu03 = [\"Yoshua Bengio\", 92, 88, 84]\n",
        "stu04 = [\"Andrew Ng\", 75, 85, 100]"
      ],
      "execution_count": 0,
      "outputs": []
    },
    {
      "cell_type": "code",
      "metadata": {
        "id": "R5aCOrAVc_hL",
        "colab_type": "code",
        "outputId": "c994d560-4164-4345-ce5b-3a1c46001af9",
        "colab": {
          "base_uri": "https://localhost:8080/",
          "height": 35
        }
      },
      "source": [
        "# 위의 4개의 리스트를 담은 리스트 stu 를 생성하세요. \n",
        "stu = [stu01, stu02, stu03, stu04]\n",
        "print(stu)"
      ],
      "execution_count": 0,
      "outputs": [
        {
          "output_type": "stream",
          "text": [
            "[['Geoffery Hinton', 95, 65, 90], ['Yann Lecun', 80, 85, 90], ['Yoshua Bengio', 92, 88, 84], ['Andrew Ng', 75, 85, 100]]\n"
          ],
          "name": "stdout"
        }
      ]
    },
    {
      "cell_type": "code",
      "metadata": {
        "id": "VF-2eaQOu_9k",
        "colab_type": "code",
        "outputId": "1a6b9195-3144-47d9-c0a8-69001b46ef04",
        "colab": {
          "base_uri": "https://localhost:8080/",
          "height": 35
        }
      },
      "source": [
        "# 첫 학생의 이름 중 Last Name만 출력하세요. \n",
        "# b=a.split(sep=' ') \n",
        "lastname01 = stu[0][0].split(sep=' ')[1]\n",
        "print(lastname01)"
      ],
      "execution_count": 0,
      "outputs": [
        {
          "output_type": "stream",
          "text": [
            "Hinton\n"
          ],
          "name": "stdout"
        }
      ]
    },
    {
      "cell_type": "code",
      "metadata": {
        "id": "HXR-x7jt5VYi",
        "colab_type": "code",
        "outputId": "ec0075bc-f10f-45ef-de04-1c0954d0ddfc",
        "colab": {
          "base_uri": "https://localhost:8080/",
          "height": 35
        }
      },
      "source": [
        "# 두번째 학생의 이름 중 Last Name만 출력하세요. \n",
        "lastname02 = stu[1][0].split(sep=' ')[1]\n",
        "print(lastname02)"
      ],
      "execution_count": 0,
      "outputs": [
        {
          "output_type": "stream",
          "text": [
            "Lecun\n"
          ],
          "name": "stdout"
        }
      ]
    },
    {
      "cell_type": "code",
      "metadata": {
        "id": "Q7BFsFpf5Xbn",
        "colab_type": "code",
        "outputId": "cdb14c30-23be-4b93-f48f-8ab3c8b87b4c",
        "colab": {
          "base_uri": "https://localhost:8080/",
          "height": 35
        }
      },
      "source": [
        "# 세번째 학생의 이름 중 Last Name만 출력하세요. \n",
        "lastname03 = stu[2][0].split(sep=' ')[1]\n",
        "print(lastname03)"
      ],
      "execution_count": 0,
      "outputs": [
        {
          "output_type": "stream",
          "text": [
            "Bengio\n"
          ],
          "name": "stdout"
        }
      ]
    },
    {
      "cell_type": "code",
      "metadata": {
        "id": "pNHLhMqzvCH3",
        "colab_type": "code",
        "outputId": "f21c4f87-4d5b-40a2-b352-fbd402138062",
        "colab": {
          "base_uri": "https://localhost:8080/",
          "height": 35
        }
      },
      "source": [
        "a=\"this is sentence\"\n",
        "# a 타입을 출력하시오\n",
        "print(type(a))"
      ],
      "execution_count": 0,
      "outputs": [
        {
          "output_type": "stream",
          "text": [
            "<class 'str'>\n"
          ],
          "name": "stdout"
        }
      ]
    },
    {
      "cell_type": "code",
      "metadata": {
        "id": "ALUHEPUuwPI9",
        "colab_type": "code",
        "outputId": "3adfa819-5435-4990-e8a1-a96737140053",
        "colab": {
          "base_uri": "https://localhost:8080/",
          "height": 35
        }
      },
      "source": [
        "# a 에서 \"is\" 만을 출력하시오\n",
        "b = a.split(sep=' ')[1]\n",
        "print(b)"
      ],
      "execution_count": 0,
      "outputs": [
        {
          "output_type": "stream",
          "text": [
            "is\n"
          ],
          "name": "stdout"
        }
      ]
    },
    {
      "cell_type": "code",
      "metadata": {
        "id": "3-432kmjei3F",
        "colab_type": "code",
        "outputId": "78fb00db-2318-4d1b-d867-0b3d89be118f",
        "colab": {
          "base_uri": "https://localhost:8080/",
          "height": 35
        }
      },
      "source": [
        "# 모든 학생들의 이름 중 Last Name만 출력하세요. 다음을 완성하세요.\n",
        "lastname01 = stu[0][0].split(sep=' ')[1]\n",
        "lastname02 = stu[1][0].split(sep=' ')[1]\n",
        "lastname03 = stu[2][0].split(sep=' ')[1]\n",
        "lastname04 = stu[3][0].split(sep=' ')[1]\n",
        "lastname = [lastname01, lastname02, lastname03, lastname04]\n",
        "print(lastname)"
      ],
      "execution_count": 0,
      "outputs": [
        {
          "output_type": "stream",
          "text": [
            "['Hinton', 'Lecun', 'Bengio', 'Ng']\n"
          ],
          "name": "stdout"
        }
      ]
    },
    {
      "cell_type": "code",
      "metadata": {
        "id": "5mWxEcmB7dlG",
        "colab_type": "code",
        "colab": {}
      },
      "source": [
        "# '이렇게 30을 출력해요'"
      ],
      "execution_count": 0,
      "outputs": []
    },
    {
      "cell_type": "code",
      "metadata": {
        "id": "AoqpC2J57osn",
        "colab_type": "code",
        "outputId": "bbb3576d-1508-4b09-9953-ece181edf1bc",
        "colab": {
          "base_uri": "https://localhost:8080/",
          "height": 35
        }
      },
      "source": [
        "# stu 리스트 의 점수 합산을 계산하시오. 첫번째점수 *0.4 + 두번째점수*0.4 + 세번째점수 *0.2\n",
        "sum01 = stu01[1]*0.4 + stu01[2]*0.4 + stu01[3]*0.2\n",
        "sum02 = stu02[1]*0.4 + stu02[2]*0.4 + stu02[3]*0.2\n",
        "sum03 = stu03[1]*0.4 + stu03[2]*0.4 + stu03[3]*0.2\n",
        "sum04 = stu04[1]*0.4 + stu04[2]*0.4 + stu04[3]*0.2\n",
        "print(sum01, sum02, sum03, sum04)"
      ],
      "execution_count": 0,
      "outputs": [
        {
          "output_type": "stream",
          "text": [
            "82.0 84.0 88.8 84.0\n"
          ],
          "name": "stdout"
        }
      ]
    },
    {
      "cell_type": "code",
      "metadata": {
        "id": "1xW1nf28WIcn",
        "colab_type": "code",
        "outputId": "2a16e7d0-131b-47b9-d78a-d164c29613fc",
        "colab": {
          "base_uri": "https://localhost:8080/",
          "height": 35
        }
      },
      "source": [
        "# stu 리스트에 위에서 구한 합산 점수를 추가 하세요. \n",
        "stu[0].append(sum01)\n",
        "stu[1].append(sum02)\n",
        "stu[2].append(sum03)\n",
        "stu[3].append(sum04)\n",
        "print(stu)"
      ],
      "execution_count": 0,
      "outputs": [
        {
          "output_type": "stream",
          "text": [
            "[['Geoffery Hinton', 95, 65, 90, 82.0, 82.0], ['Yann Lecun', 80, 85, 90, 82.0, 84.0], ['Yoshua Bengio', 92, 88, 84, 82.0, 88.8], ['Andrew Ng', 75, 85, 100, 82.0, 84.0]]\n"
          ],
          "name": "stdout"
        }
      ]
    },
    {
      "cell_type": "code",
      "metadata": {
        "id": "VQ0BSCyjWg7p",
        "colab_type": "code",
        "outputId": "fb6c1571-2aee-4a64-a630-4b888c361d56",
        "colab": {
          "base_uri": "https://localhost:8080/",
          "height": 161
        }
      },
      "source": [
        "# 다음의 email 작성하시오. 변수를 활용하여 첫 학생의 이름과 합산 점수를 출력하세요. \n",
        "email = \"\"\"\n",
        "Hello, {0}\n",
        "\n",
        "{0}의 이번학기 성적은 {1}입니다.\n",
        "\n",
        "수고하셨습니다. \n",
        "\n",
        "\"\"\"\n",
        "print(email.format(stu[0][0], stu[0][4]))"
      ],
      "execution_count": 0,
      "outputs": [
        {
          "output_type": "stream",
          "text": [
            "\n",
            "Hello, Geoffery Hinton\n",
            "\n",
            "Geoffery Hinton의 이번학기 성적은 82.0입니다.\n",
            "\n",
            "수고하셨습니다. \n",
            "\n",
            "\n"
          ],
          "name": "stdout"
        }
      ]
    },
    {
      "cell_type": "markdown",
      "metadata": {
        "id": "LjxY5blubiFT",
        "colab_type": "text"
      },
      "source": [
        "## 6. Slicing\n",
        "- slicing list\n",
        "- slicing string"
      ]
    },
    {
      "cell_type": "code",
      "metadata": {
        "id": "QVA0WiGKsZeY",
        "colab_type": "code",
        "colab": {}
      },
      "source": [
        "x="
      ],
      "execution_count": 0,
      "outputs": []
    },
    {
      "cell_type": "code",
      "metadata": {
        "id": "aexgzR9LOoKO",
        "colab_type": "code",
        "colab": {}
      },
      "source": [
        "x =\n",
        "print(x)\n",
        "x[0], x[1]"
      ],
      "execution_count": 0,
      "outputs": []
    },
    {
      "cell_type": "code",
      "metadata": {
        "id": "wbX4Yac8OX8l",
        "colab_type": "code",
        "colab": {}
      },
      "source": [
        "# for는 뒤에 반복문에서 더 자세히 배운다.\n",
        "for i in x:\n",
        "    print(i, end= '*')"
      ],
      "execution_count": 0,
      "outputs": []
    },
    {
      "cell_type": "code",
      "metadata": {
        "id": "yKhOCxQlOyXr",
        "colab_type": "code",
        "colab": {}
      },
      "source": [
        "for i in x:\n",
        "    print(i+1)"
      ],
      "execution_count": 0,
      "outputs": []
    },
    {
      "cell_type": "code",
      "metadata": {
        "id": "HXPR7EeMXbHo",
        "colab_type": "code",
        "colab": {}
      },
      "source": [
        "# 뒤에 배열을 보기 좋게하려고 잠시 끼어든 코드. 무시하고 뒤에 공부해도 된다.\n",
        "list = range(12)\n",
        "for i in list: \n",
        "    print('%3d'% i, end='') "
      ],
      "execution_count": 0,
      "outputs": []
    },
    {
      "cell_type": "code",
      "metadata": {
        "id": "-q_5XOF6feuP",
        "colab_type": "code",
        "colab": {}
      },
      "source": [
        "# 리스트 생성\n",
        "numbers = [95,65, 90, 80, 85, 90, 92, 88, 84, 75, 85, 100]\n",
        "list = range(12)\n",
        "for i in list: \n",
        "    print('%3d '% i, end='')\n",
        "print('')\n",
        "print(numbers)\n",
        "print('---------')"
      ],
      "execution_count": 0,
      "outputs": []
    },
    {
      "cell_type": "code",
      "metadata": {
        "id": "EbM_97Kv7JSy",
        "colab_type": "code",
        "colab": {}
      },
      "source": [
        "numbers[1:3]"
      ],
      "execution_count": 0,
      "outputs": []
    },
    {
      "cell_type": "code",
      "metadata": {
        "id": "0xcktg52biFU",
        "colab_type": "code",
        "colab": {}
      },
      "source": [
        "# 리스트의 subset 01\n",
        "print(numbers[0:3])\n",
        "print(numbers[3:6])\n",
        "print(numbers[6:9])\n",
        "print(numbers[9:12])\n",
        "\n",
        "# 리스트의 subset 02\n",
        "print(numbers[:3])\n",
        "\n",
        "# 리스트의 subset 03\n",
        "print(numbers[9:])"
      ],
      "execution_count": 0,
      "outputs": []
    },
    {
      "cell_type": "code",
      "metadata": {
        "id": "MEwK3qGpbiFn",
        "colab_type": "code",
        "colab": {}
      },
      "source": [
        "# 문자열 생성\n",
        "x = \"\"\n",
        "    \n",
        "print('')\n",
        "print(x)\n",
        "print('---------')\n",
        "\n",
        "# 문자열 subset 01\n",
        "print()\n",
        "print()\n",
        "\n",
        "# 문자열 subset 02\n",
        "print()\n",
        "\n",
        "# 문자열 subset 03\n",
        "print()"
      ],
      "execution_count": 0,
      "outputs": []
    },
    {
      "cell_type": "code",
      "metadata": {
        "id": "vKFUJg6uQ-hO",
        "colab_type": "code",
        "colab": {}
      },
      "source": [
        "# 보기 불편하다. 아래와 같은 출력을 하면 자리 수 세기가 더 편하지 않을까? 어떻게 하면 될까?\n",
        "\n",
        "# 12345678901234567890123456789012345678901234567890123456789012345678901\n",
        "# hobby project during the week around Christmas as his office was closed"
      ],
      "execution_count": 0,
      "outputs": []
    },
    {
      "cell_type": "code",
      "metadata": {
        "id": "6ATEQjDwenMh",
        "colab_type": "code",
        "colab": {}
      },
      "source": [
        "# split\n"
      ],
      "execution_count": 0,
      "outputs": []
    },
    {
      "cell_type": "markdown",
      "metadata": {
        "id": "tRMm6XN1biF2",
        "colab_type": "text"
      },
      "source": [
        "# 02 파이썬 입문 I\n",
        "\n",
        "1. Type & Operator - Boolean\n",
        "2. Control (제어문)\n",
        "3. Function (함수)\n",
        "4. Method\n",
        "5. Package"
      ]
    },
    {
      "cell_type": "markdown",
      "metadata": {
        "id": "dUtweYcgbiF4",
        "colab_type": "text"
      },
      "source": [
        "## 1. Type & Operator - Boolean\n",
        "\n",
        "- boolean\n",
        "- 비교 연산자"
      ]
    },
    {
      "cell_type": "code",
      "metadata": {
        "id": "lj9-mJt9biF6",
        "colab_type": "code",
        "colab": {}
      },
      "source": [
        "# True/False Boolean\n",
        "\n",
        "t = True\n",
        "f = False\n",
        "print(type(t)) # Prints \"<class 'bool'>\"\n",
        "\n",
        "# 논리 연산자\n",
        "print(t and f) # AND 연산, \"False\"\n",
        "print(t or f)  # OR 연산, \"True\"\n",
        "print(not t)   # NOT 연산, prints \"False\"\n",
        "\n",
        "# 비교 연산자\n",
        "# ==, !=, >, <, >=, <="
      ],
      "execution_count": 0,
      "outputs": []
    },
    {
      "cell_type": "markdown",
      "metadata": {
        "id": "-fe8gLKibiF_",
        "colab_type": "text"
      },
      "source": [
        "## 2. Control (제어문)\n",
        "\n",
        "- 조건문: if-else\n",
        "- 반복문: while\n",
        "- 반복문: for\n"
      ]
    },
    {
      "cell_type": "code",
      "metadata": {
        "id": "HGM-EyqobiGD",
        "colab_type": "code",
        "colab": {}
      },
      "source": [
        "# 조건문 - if-else\n",
        "\n",
        "my_score = 73\n",
        " \n",
        "if my_score >= 90:\n",
        "    my_grade = 'A'\n",
        "elif my_score >= 80:\n",
        "    my_grade = 'B'\n",
        "elif my_score >= 70:\n",
        "    my_grade = 'C'\n",
        "elif my_score >= 60:\n",
        "    my_grade = 'E'\n",
        "else:\n",
        "    my_grade = 'F'\n",
        "\n",
        "print(my_grade)"
      ],
      "execution_count": 0,
      "outputs": []
    },
    {
      "cell_type": "code",
      "metadata": {
        "id": "tuKY1xWUbiGL",
        "colab_type": "code",
        "colab": {}
      },
      "source": [
        "# one line 조건문\n",
        "my_grade_state = 'Pass' if my_score >= 60 else 'Fail'\n",
        "print(my_grade_state)"
      ],
      "execution_count": 0,
      "outputs": []
    },
    {
      "cell_type": "code",
      "metadata": {
        "id": "KgebZxBObiGo",
        "colab_type": "code",
        "colab": {}
      },
      "source": [
        "# 반복문 - for\n",
        "for i in [0, 1, 2, 3, 4]:\n",
        "    print(i)\n",
        "print('--------------')    \n",
        "    \n",
        "for i in range(5):\n",
        "    print(i)"
      ],
      "execution_count": 0,
      "outputs": []
    },
    {
      "cell_type": "code",
      "metadata": {
        "id": "g3eOrRZngP6T",
        "colab_type": "code",
        "colab": {}
      },
      "source": [
        "for i in range(5):\n",
        "    print('*', end='')"
      ],
      "execution_count": 0,
      "outputs": []
    },
    {
      "cell_type": "code",
      "metadata": {
        "id": "yrNCT9QUgSj4",
        "colab_type": "code",
        "colab": {}
      },
      "source": [
        "fruits = ['apple', 'banana', 'cherry']\n",
        "\n",
        "for i in fruits:\n",
        "    print(i)\n",
        "print('--------------')    "
      ],
      "execution_count": 0,
      "outputs": []
    },
    {
      "cell_type": "code",
      "metadata": {
        "id": "xPiWh1Nxegqo",
        "colab_type": "code",
        "colab": {}
      },
      "source": [
        "for index in range(len(fruits)):\n",
        "    print(index, fruits[index])\n",
        "print('--------------')    \n"
      ],
      "execution_count": 0,
      "outputs": []
    },
    {
      "cell_type": "code",
      "metadata": {
        "id": "KTY2-TLAD_02",
        "colab_type": "code",
        "colab": {}
      },
      "source": [
        "enumerate(fruits)"
      ],
      "execution_count": 0,
      "outputs": []
    },
    {
      "cell_type": "code",
      "metadata": {
        "id": "XOrcUoRyekYq",
        "colab_type": "code",
        "colab": {}
      },
      "source": [
        "for index, value in enumerate(fruits):\n",
        "    print(index, value)"
      ],
      "execution_count": 0,
      "outputs": []
    },
    {
      "cell_type": "code",
      "metadata": {
        "id": "IzVo_pbQbiGv",
        "colab_type": "code",
        "colab": {}
      },
      "source": [
        "# 반복문 - while\n",
        "fruits = ['apple', 'banana', 'cherry']\n",
        "i = 0 \n",
        "\n",
        "while i < len(fruits):\n",
        "    print(fruits[i])\n",
        "    i += 1"
      ],
      "execution_count": 0,
      "outputs": []
    },
    {
      "cell_type": "markdown",
      "metadata": {
        "colab_type": "text",
        "id": "ZzJuLV_qApXb"
      },
      "source": [
        "### **과제 02. 과제 제출일은 3/22 일요일 자정까지 입니다.**"
      ]
    },
    {
      "cell_type": "code",
      "metadata": {
        "id": "clK_tVG1xvzt",
        "colab_type": "code",
        "colab": {}
      },
      "source": [
        "for  i in [1,2,3]:\n",
        "    print(i)\n",
        "print(i)"
      ],
      "execution_count": 0,
      "outputs": []
    },
    {
      "cell_type": "code",
      "metadata": {
        "id": "K3njDar4e8Ww",
        "colab_type": "code",
        "colab": {}
      },
      "source": [
        "for j in range(4): #0, 1, 2, 3\n",
        "    for i in range(5): #0, 1,2,3,4 \n",
        "        print('*', end='')\n",
        "    print()\n",
        "    \n",
        "# *****\n",
        "# *****\n",
        "# *****\n",
        "# *****\n"
      ],
      "execution_count": 0,
      "outputs": []
    },
    {
      "cell_type": "code",
      "metadata": {
        "id": "NeJb6XMA1K9t",
        "colab_type": "code",
        "colab": {}
      },
      "source": [
        "for j in range(6):\n",
        "    for i in range(j): \n",
        "        print(j, i)\n",
        "    print()"
      ],
      "execution_count": 0,
      "outputs": []
    },
    {
      "cell_type": "code",
      "metadata": {
        "id": "hBIOuacmbiG5",
        "colab_type": "code",
        "colab": {}
      },
      "source": [
        "# 위의 코드를 변형하여 다음 모양을 출력해보자\n",
        "# 1. \n",
        "# *\n",
        "# **\n",
        "# ***\n",
        "# ****\n",
        "# *****\n",
        "\n",
        "\n",
        "# 2. \n",
        "# *****\n",
        "# ****\n",
        "# ***\n",
        "# **\n",
        "# *\n",
        "\n",
        "\n",
        "print()"
      ],
      "execution_count": 0,
      "outputs": []
    },
    {
      "cell_type": "markdown",
      "metadata": {
        "id": "miIFEDG8biHC",
        "colab_type": "text"
      },
      "source": [
        "\n",
        "## 3. Function (함수)\n",
        "\n",
        "- 내장 함수: print, round, max, min, sorted\n",
        "- 모듈의 함수: os, re 등등\n",
        "- 함수 만들기"
      ]
    },
    {
      "cell_type": "markdown",
      "metadata": {
        "id": "0xHMU-YKbiHE",
        "colab_type": "text"
      },
      "source": [
        "### 내장함수"
      ]
    },
    {
      "cell_type": "code",
      "metadata": {
        "id": "7Qu3KlqxbiHF",
        "colab_type": "code",
        "colab": {}
      },
      "source": [
        "print(\"I love you\")\n",
        "print(\"1. He said 'I'll be back'\")\n",
        "\n",
        "# 아래의 문장을 한줄씩 그대로 출력하는 print문을 만들어 보자.\n",
        "# 1. He said \"I'll be back\"\n",
        "# 2. the file's directory is \"C:\\\\x3\"\n",
        "\n",
        "# \"\" 부호는 어떻게 출력할 수 있는가? \n",
        "# '' 부호는 어떻게 출력할 수 있는가? "
      ],
      "execution_count": 0,
      "outputs": []
    },
    {
      "cell_type": "code",
      "metadata": {
        "id": "w_nFpy1dk7dx",
        "colab_type": "code",
        "colab": {}
      },
      "source": [
        "print(\"1. He said \\\"I'll be back\\\"\")"
      ],
      "execution_count": 0,
      "outputs": []
    },
    {
      "cell_type": "code",
      "metadata": {
        "id": "NCOuKyIWbiHO",
        "colab_type": "code",
        "colab": {}
      },
      "source": [
        "print(round(10.4607, 0))\n",
        "print(round(10.5129))\n",
        "print(round(10.5129, 2))\n",
        "print(round(10.5029, 3))"
      ],
      "execution_count": 0,
      "outputs": []
    },
    {
      "cell_type": "code",
      "metadata": {
        "id": "QELlkGxcligf",
        "colab_type": "code",
        "colab": {}
      },
      "source": [
        "numbers = [95, 65, 90, 80, 85, 90, 92, 88, 84, 75, 85, 100]\n",
        "print(max(numbers))\n",
        "print(min(numbers))\n",
        "print(sorted(numbers))"
      ],
      "execution_count": 0,
      "outputs": []
    },
    {
      "cell_type": "code",
      "metadata": {
        "id": "nOvu-LrcljRa",
        "colab_type": "code",
        "colab": {}
      },
      "source": [
        "# help\n",
        "help(print)"
      ],
      "execution_count": 0,
      "outputs": []
    },
    {
      "cell_type": "code",
      "metadata": {
        "id": "zWsWw-wIbiHV",
        "colab_type": "code",
        "colab": {}
      },
      "source": [
        "# 내장함수 목록 \n",
        "dir(__builtin__)"
      ],
      "execution_count": 0,
      "outputs": []
    },
    {
      "cell_type": "markdown",
      "metadata": {
        "id": "7ZH4tu7-biHc",
        "colab_type": "text"
      },
      "source": [
        "### 모듈내의 함수"
      ]
    },
    {
      "cell_type": "code",
      "metadata": {
        "id": "FiobB7UwbiHe",
        "colab_type": "code",
        "colab": {}
      },
      "source": [
        "# os 모듈\n",
        "import os\n",
        "\n",
        "print(os.getcwd())\n",
        "print(os.listdir())"
      ],
      "execution_count": 0,
      "outputs": []
    },
    {
      "cell_type": "markdown",
      "metadata": {
        "id": "1elv9j7MbiHj",
        "colab_type": "text"
      },
      "source": [
        "### 함수 생성"
      ]
    },
    {
      "cell_type": "code",
      "metadata": {
        "id": "iBhuXushr2Aj",
        "colab_type": "code",
        "colab": {}
      },
      "source": [
        "def abc(x):\n",
        "    # pass\n",
        "    return x % 3\n",
        "\n",
        "print(abc(10))\n",
        "print(abc(90))"
      ],
      "execution_count": 0,
      "outputs": []
    },
    {
      "cell_type": "code",
      "metadata": {
        "id": "s0rv5hoCbiHl",
        "colab_type": "code",
        "colab": {}
      },
      "source": [
        "def sign(x):\n",
        "    if x > 0:\n",
        "        return 'positive'\n",
        "    elif x < 0:\n",
        "        return 'negative'\n",
        "    else:\n",
        "        return 'zero'\n",
        "\n",
        "for x in [-1, 0, 1]:\n",
        "    print(sign(x))\n",
        "    "
      ],
      "execution_count": 0,
      "outputs": []
    },
    {
      "cell_type": "markdown",
      "metadata": {
        "id": "F9o29K_1biHv",
        "colab_type": "text"
      },
      "source": [
        "### **과제 03. 과제 제출일은 3/29 일요일 자정까지 입니다.**"
      ]
    },
    {
      "cell_type": "code",
      "metadata": {
        "id": "a4dOktgibiHy",
        "colab_type": "code",
        "colab": {}
      },
      "source": [
        "# 1. 두 개의 정수 값을 받아 평균을 구하는 함수를 작성하세요.\n",
        "def get_average\n",
        "\n",
        "\n",
        "\n",
        "print(get_average(3, 5))"
      ],
      "execution_count": 0,
      "outputs": []
    },
    {
      "cell_type": "code",
      "metadata": {
        "id": "Sr_X_8mfCrke",
        "colab_type": "code",
        "colab": {}
      },
      "source": [
        "# 2. 리스트를 입력받아서 최소값과 최대값을 반환하는 함수를 작성하세요.\n",
        "def get_min(ls):\n",
        "    # 함수구현\n",
        "    pass\n",
        "\n",
        "print(get_min([1, 2, 3, 4, 5]))"
      ],
      "execution_count": 0,
      "outputs": []
    },
    {
      "cell_type": "code",
      "metadata": {
        "id": "OZ4i3qQPJcil",
        "colab_type": "code",
        "colab": {}
      },
      "source": [
        "def get_max(ls):\n",
        "    # 함수구현\n",
        "    pass\n",
        "\n",
        "print(get_max([1, 2, 3, 4, 5]))"
      ],
      "execution_count": 0,
      "outputs": []
    },
    {
      "cell_type": "code",
      "metadata": {
        "id": "TLjpxgrsCv3s",
        "colab_type": "code",
        "colab": {}
      },
      "source": [
        "# 3. 시작과 끝 숫자를 받아 시작부터 끝까지의 모든 정수값의 합을 반환하는 함수를 작성하세요. (시작값과 끝값 포함)\n",
        "def get_sum(start, end):\n",
        "\n",
        "\n",
        "print(get_sum(1, 9))\n",
        "print(get_sum(3, 5))"
      ],
      "execution_count": 0,
      "outputs": []
    },
    {
      "cell_type": "code",
      "metadata": {
        "id": "cyp41vk39ClV",
        "colab_type": "code",
        "colab": {}
      },
      "source": [
        "# 4. 각 리스트의 요소는 name, midterm, quiz, final입니다. \n",
        "stu = [[\"Geoffery Hinton\", 95, 65, 90],\n",
        "       [\"Yann Lecun\", 80, 85, 90],\n",
        "       [\"Yoshua Bengio\", 92, 88, 84],\n",
        "       [\"Andrew Ng\", 75, 85, 100]]\n",
        "\n",
        "# 학점 규칙: 중간고사 35%, 기말고사 35%, 퀴즈 30%\n",
        "# total을 계산하는 함수를 생성하세요. \n",
        "def total\n",
        "\n",
        "\n",
        "total(30, 40, 30)"
      ],
      "execution_count": 0,
      "outputs": []
    },
    {
      "cell_type": "markdown",
      "metadata": {
        "id": "gp0kX68HzoFo",
        "colab_type": "text"
      },
      "source": [
        "#### 학점 계산"
      ]
    },
    {
      "cell_type": "code",
      "metadata": {
        "id": "hUH7UJcn8l4X",
        "colab_type": "code",
        "colab": {}
      },
      "source": [
        "# 학점 규칙: 중간고사 35%, 기말고사 35%, 퀴즈 30%\n",
        "# 앞의 stu 리스트중 한 명의 것을 입력 받아, 이름과 성적을 계산하는 total2 함수를 생성하세요.\n",
        " \n",
        "def total2(s):\n",
        "    r= s[1] * 0.35 + s[2]*.35 + s[3]*.3\n",
        "    name = s[0]\n",
        "    return name, r\n",
        "    \n",
        "name, score = total2(stu[1])\n",
        "print(name, score)"
      ],
      "execution_count": 0,
      "outputs": []
    },
    {
      "cell_type": "code",
      "metadata": {
        "id": "jWdbdOoO89b7",
        "colab_type": "code",
        "colab": {}
      },
      "source": [
        "# 직전의 함수를 사용하여 stu긔 각 사람별로 이름과 성적을 출력하세요.\n",
        "print( total2(stu[0]) )\n",
        "print( total2(stu[1]) )\n",
        "print( total2(stu[2]) )\n",
        "print( total2(stu[3]) )\n"
      ],
      "execution_count": 0,
      "outputs": []
    },
    {
      "cell_type": "code",
      "metadata": {
        "id": "fi0-F0BxPudU",
        "colab_type": "code",
        "colab": {}
      },
      "source": [
        "# for문을 이용하여 stu 모든 학생들의 total 결과를 st list에 차례로 담으세요. \n",
        "# 앞에서 만든 total2 함수를 사용하세요.\n",
        "st = []\n",
        "for i in stu:\n",
        "    # print(total2(i))\n",
        "    st.append(total2(i))\n",
        "    # print(st)\n",
        "\n",
        "print(st)"
      ],
      "execution_count": 0,
      "outputs": []
    },
    {
      "cell_type": "code",
      "metadata": {
        "id": "LUKJvl03OO8y",
        "colab_type": "code",
        "colab": {}
      },
      "source": [
        "# 점수에 해당하는 grade를 반환하는 함수를 만드세요. \n",
        "# 90이상 A, 80이상 B, 70 이상 C, 나머지는 F\n",
        "def grade(s):\n",
        "    if s>= 90:\n",
        "        g = 'A'\n",
        "    elif s>= 80:\n",
        "        g = 'B'\n",
        "    elif s>= 70:\n",
        "        g = 'C'\n",
        "    else:\n",
        "        g = 'F'\n",
        "    return g\n",
        "\n",
        "print(grade(75))\n",
        "print(grade(60))\n",
        "print(grade(91))"
      ],
      "execution_count": 0,
      "outputs": []
    }
  ]
}