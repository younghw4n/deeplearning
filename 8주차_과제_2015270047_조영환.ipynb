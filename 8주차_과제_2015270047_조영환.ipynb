{
  "nbformat": 4,
  "nbformat_minor": 0,
  "metadata": {
    "colab": {
      "name": "8주차_과제_2015270047_조영환.ipynb",
      "provenance": [],
      "collapsed_sections": [],
      "authorship_tag": "ABX9TyPvEaL6p/C+iNB4Dgwqdp0d",
      "include_colab_link": true
    },
    "kernelspec": {
      "name": "python3",
      "display_name": "Python 3"
    }
  },
  "cells": [
    {
      "cell_type": "markdown",
      "metadata": {
        "id": "view-in-github",
        "colab_type": "text"
      },
      "source": [
        "<a href=\"https://colab.research.google.com/github/younghw4n/deeplearning/blob/master/8%EC%A3%BC%EC%B0%A8_%EA%B3%BC%EC%A0%9C_2015270047_%EC%A1%B0%EC%98%81%ED%99%98.ipynb\" target=\"_parent\"><img src=\"https://colab.research.google.com/assets/colab-badge.svg\" alt=\"Open In Colab\"/></a>"
      ]
    },
    {
      "cell_type": "markdown",
      "metadata": {
        "id": "ZSLwFXDpufwJ",
        "colab_type": "text"
      },
      "source": [
        "#Keras"
      ]
    },
    {
      "cell_type": "code",
      "metadata": {
        "id": "j579NB-oujhT",
        "colab_type": "code",
        "outputId": "dba5d1e9-dbd4-49b6-eb85-9bcfbd7f6e48",
        "colab": {
          "base_uri": "https://localhost:8080/",
          "height": 35
        }
      },
      "source": [
        "import keras"
      ],
      "execution_count": 0,
      "outputs": [
        {
          "output_type": "stream",
          "text": [
            "Using TensorFlow backend.\n"
          ],
          "name": "stderr"
        }
      ]
    },
    {
      "cell_type": "markdown",
      "metadata": {
        "id": "hAY-ejDYssML",
        "colab_type": "text"
      },
      "source": [
        "#Google Drive mount"
      ]
    },
    {
      "cell_type": "code",
      "metadata": {
        "id": "0fkitCLDsNC3",
        "colab_type": "code",
        "outputId": "c46646b8-6321-4f41-c1f5-89628f5510f5",
        "colab": {
          "base_uri": "https://localhost:8080/",
          "height": 127
        }
      },
      "source": [
        "from google.colab import drive\n",
        "drive.mount('/content/drive')"
      ],
      "execution_count": 0,
      "outputs": [
        {
          "output_type": "stream",
          "text": [
            "Go to this URL in a browser: https://accounts.google.com/o/oauth2/auth?client_id=947318989803-6bn6qk8qdgf4n4g3pfee6491hc0brc4i.apps.googleusercontent.com&redirect_uri=urn%3aietf%3awg%3aoauth%3a2.0%3aoob&response_type=code&scope=email%20https%3a%2f%2fwww.googleapis.com%2fauth%2fdocs.test%20https%3a%2f%2fwww.googleapis.com%2fauth%2fdrive%20https%3a%2f%2fwww.googleapis.com%2fauth%2fdrive.photos.readonly%20https%3a%2f%2fwww.googleapis.com%2fauth%2fpeopleapi.readonly\n",
            "\n",
            "Enter your authorization code:\n",
            "··········\n",
            "Mounted at /content/drive\n"
          ],
          "name": "stdout"
        }
      ]
    },
    {
      "cell_type": "code",
      "metadata": {
        "id": "26iHoKefvfKG",
        "colab_type": "code",
        "outputId": "f69399ef-48db-4ee2-fe54-16d5b173553a",
        "colab": {
          "base_uri": "https://localhost:8080/",
          "height": 35
        }
      },
      "source": [
        "cd /content/drive/My Drive/실무데이터"
      ],
      "execution_count": 0,
      "outputs": [
        {
          "output_type": "stream",
          "text": [
            "/content/drive/My Drive/실무데이터\n"
          ],
          "name": "stdout"
        }
      ]
    },
    {
      "cell_type": "code",
      "metadata": {
        "id": "2sVCuJSMvtOq",
        "colab_type": "code",
        "outputId": "fa6a3e6b-1c41-4615-f118-92dbc21fa640",
        "colab": {
          "base_uri": "https://localhost:8080/",
          "height": 35
        }
      },
      "source": [
        "!ls"
      ],
      "execution_count": 0,
      "outputs": [
        {
          "output_type": "stream",
          "text": [
            "dogs-vs-cats\n"
          ],
          "name": "stdout"
        }
      ]
    },
    {
      "cell_type": "markdown",
      "metadata": {
        "id": "Vt0AeGdytzc-",
        "colab_type": "text"
      },
      "source": [
        "#small set"
      ]
    },
    {
      "cell_type": "code",
      "metadata": {
        "id": "8WY7J8mKuGop",
        "colab_type": "code",
        "colab": {}
      },
      "source": [
        "import os, shutil"
      ],
      "execution_count": 0,
      "outputs": []
    },
    {
      "cell_type": "code",
      "metadata": {
        "id": "h-qneejQwPzP",
        "colab_type": "code",
        "colab": {}
      },
      "source": [
        "original_dataset_dir = './dogs-vs-cats/train'\n",
        "\n",
        "base_dir = './dogs-vs-cats-small'\n",
        "if os.path.exists(base_dir):\n",
        "    shutil.rmtree(base_dir)\n",
        "os.mkdir(base_dir)"
      ],
      "execution_count": 0,
      "outputs": []
    }
  ]
}