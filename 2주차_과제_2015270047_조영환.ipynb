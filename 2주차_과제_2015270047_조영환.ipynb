{
  "nbformat": 4,
  "nbformat_minor": 0,
  "metadata": {
    "colab": {
      "name": "2주차_과제_2015270047_조영환.ipynb",
      "provenance": [],
      "collapsed_sections": [],
      "authorship_tag": "ABX9TyPFzQeJCdgOEPAdA0sTBlVg",
      "include_colab_link": true
    },
    "kernelspec": {
      "name": "python3",
      "display_name": "Python 3"
    }
  },
  "cells": [
    {
      "cell_type": "markdown",
      "metadata": {
        "id": "view-in-github",
        "colab_type": "text"
      },
      "source": [
        "<a href=\"https://colab.research.google.com/github/younghw4n/deeplearning/blob/master/2%EC%A3%BC%EC%B0%A8_%EA%B3%BC%EC%A0%9C_2015270047_%EC%A1%B0%EC%98%81%ED%99%98.ipynb\" target=\"_parent\"><img src=\"https://colab.research.google.com/assets/colab-badge.svg\" alt=\"Open In Colab\"/></a>"
      ]
    },
    {
      "cell_type": "code",
      "metadata": {
        "id": "eo3sn6C32ux-",
        "colab_type": "code",
        "outputId": "2d63e814-72c9-4a72-dd7a-5aa445460ad7",
        "colab": {
          "base_uri": "https://localhost:8080/",
          "height": 89
        }
      },
      "source": [
        "for  i in [1,2,3]:\n",
        "    print(i)\n",
        "print(i)"
      ],
      "execution_count": 0,
      "outputs": [
        {
          "output_type": "stream",
          "text": [
            "1\n",
            "2\n",
            "3\n",
            "3\n"
          ],
          "name": "stdout"
        }
      ]
    },
    {
      "cell_type": "code",
      "metadata": {
        "id": "jkopYqk63Bsg",
        "colab_type": "code",
        "outputId": "c8752179-1053-495e-f0d9-4c5ca4db25c0",
        "colab": {
          "base_uri": "https://localhost:8080/",
          "height": 89
        }
      },
      "source": [
        "for j in range(4): #0,1,2,3\n",
        "    for i in range(5): #0,1,2,3,4 \n",
        "        print('*', end='')\n",
        "    print()\n",
        "    \n",
        "# *****\n",
        "# *****\n",
        "# *****\n",
        "# *****"
      ],
      "execution_count": 0,
      "outputs": [
        {
          "output_type": "stream",
          "text": [
            "*****\n",
            "*****\n",
            "*****\n",
            "*****\n"
          ],
          "name": "stdout"
        }
      ]
    },
    {
      "cell_type": "code",
      "metadata": {
        "id": "9I1olAex3GZ1",
        "colab_type": "code",
        "outputId": "38871b3a-c852-4178-ad78-d79d810abf09",
        "colab": {
          "base_uri": "https://localhost:8080/",
          "height": 395
        }
      },
      "source": [
        "for j in range(6):\n",
        "    for i in range(j): \n",
        "        print(j, i)\n",
        "    print()"
      ],
      "execution_count": 0,
      "outputs": [
        {
          "output_type": "stream",
          "text": [
            "\n",
            "1 0\n",
            "\n",
            "2 0\n",
            "2 1\n",
            "\n",
            "3 0\n",
            "3 1\n",
            "3 2\n",
            "\n",
            "4 0\n",
            "4 1\n",
            "4 2\n",
            "4 3\n",
            "\n",
            "5 0\n",
            "5 1\n",
            "5 2\n",
            "5 3\n",
            "5 4\n",
            "\n"
          ],
          "name": "stdout"
        }
      ]
    },
    {
      "cell_type": "code",
      "metadata": {
        "id": "h4kQOQP73fkp",
        "colab_type": "code",
        "colab": {}
      },
      "source": [
        "# 위의 코드를 변형하여 다음 모양을 출력해보자\n",
        "# 1. \n",
        "# *\n",
        "# **\n",
        "# ***\n",
        "# ****\n",
        "# *****\n",
        "\n",
        "\n",
        "# 2. \n",
        "# *****\n",
        "# ****\n",
        "# ***\n",
        "# **\n",
        "# *\n",
        "\n",
        "\n",
        "print()"
      ],
      "execution_count": 0,
      "outputs": []
    },
    {
      "cell_type": "code",
      "metadata": {
        "id": "5u-0lQPw3ho0",
        "colab_type": "code",
        "outputId": "91ebb3a7-9e05-45ba-c021-80b2777e5898",
        "colab": {
          "base_uri": "https://localhost:8080/",
          "height": 107
        }
      },
      "source": [
        "for  i in [1,2,3,4,5]:\n",
        "    for j in range(i):\n",
        "      print('*',end='')\n",
        "    print()"
      ],
      "execution_count": 0,
      "outputs": [
        {
          "output_type": "stream",
          "text": [
            "*\n",
            "**\n",
            "***\n",
            "****\n",
            "*****\n"
          ],
          "name": "stdout"
        }
      ]
    },
    {
      "cell_type": "code",
      "metadata": {
        "id": "gojZc-gO4avn",
        "colab_type": "code",
        "outputId": "7d730f68-cb0b-4ba9-bcd9-9abf15584c60",
        "colab": {
          "base_uri": "https://localhost:8080/",
          "height": 107
        }
      },
      "source": [
        "for  i in [1,2,3,4,5]:\n",
        "    for j in range(6-i):\n",
        "      print('*',end='')\n",
        "    print()"
      ],
      "execution_count": 0,
      "outputs": [
        {
          "output_type": "stream",
          "text": [
            "*****\n",
            "****\n",
            "***\n",
            "**\n",
            "*\n"
          ],
          "name": "stdout"
        }
      ]
    },
    {
      "cell_type": "code",
      "metadata": {
        "id": "1Fsd2YIU4tmG",
        "colab_type": "code",
        "outputId": "0d1ab5ae-4af3-4c33-f651-e50ad7286f89",
        "colab": {
          "base_uri": "https://localhost:8080/",
          "height": 35
        }
      },
      "source": [
        "# 1. 두 개의 정수 값을 받아 평균을 구하는 함수를 작성하세요.\n",
        "def get_average(n, m):\n",
        "  return (n+m) / 2 \n",
        "\n",
        "print(get_average(3, 5))"
      ],
      "execution_count": 0,
      "outputs": [
        {
          "output_type": "stream",
          "text": [
            "4.0\n"
          ],
          "name": "stdout"
        }
      ]
    },
    {
      "cell_type": "code",
      "metadata": {
        "id": "8bofnNTI4v4Q",
        "colab_type": "code",
        "outputId": "1296bfae-8d51-4216-d4d0-bc21c72c13ec",
        "colab": {
          "base_uri": "https://localhost:8080/",
          "height": 35
        }
      },
      "source": [
        "# 2. 리스트를 입력받아서 최소값과 최대값을 반환하는 함수를 작성하세요.\n",
        "def get_min(ls):\n",
        "  smallest = ls[0]\n",
        "  for i in ls:\n",
        "    if i < smallest:\n",
        "      smallest = i\n",
        "  return smallest\n",
        "\n",
        "print(get_min([1, 2, 3, 4, 5]))"
      ],
      "execution_count": 0,
      "outputs": [
        {
          "output_type": "stream",
          "text": [
            "1\n"
          ],
          "name": "stdout"
        }
      ]
    },
    {
      "cell_type": "code",
      "metadata": {
        "id": "l_fsnBhk4xOK",
        "colab_type": "code",
        "outputId": "8dafabd2-f6e5-4b5c-e458-d8c1c9037861",
        "colab": {
          "base_uri": "https://localhost:8080/",
          "height": 35
        }
      },
      "source": [
        "def get_max(ls):\n",
        "  biggest = ls[0]\n",
        "  for i in ls:\n",
        "    if i > biggest:\n",
        "      biggest = i\n",
        "  return biggest\n",
        "\n",
        "print(get_max([1, 2, 3, 4, 5]))"
      ],
      "execution_count": 0,
      "outputs": [
        {
          "output_type": "stream",
          "text": [
            "5\n"
          ],
          "name": "stdout"
        }
      ]
    },
    {
      "cell_type": "code",
      "metadata": {
        "id": "4OREuU4i4zHc",
        "colab_type": "code",
        "outputId": "68007495-2189-4585-be28-12ae1aaba63c",
        "colab": {
          "base_uri": "https://localhost:8080/",
          "height": 53
        }
      },
      "source": [
        "# 3. 시작과 끝 숫자를 받아 시작부터 끝까지의 모든 정수값의 합을 반환하는 함수를 작성하세요. (시작값과 끝값 포함)\n",
        "def get_sum(start, end):\n",
        "  sum1 = 0\n",
        "  sum2 = 0\n",
        "  for i in range(1, end+1):\n",
        "    sum1 += i\n",
        "  for j in range(1, start):\n",
        "    sum2 += j\n",
        "  return sum1-sum2\n",
        "  \n",
        "print(get_sum(1, 9))\n",
        "print(get_sum(3, 5))"
      ],
      "execution_count": 0,
      "outputs": [
        {
          "output_type": "stream",
          "text": [
            "45\n",
            "12\n"
          ],
          "name": "stdout"
        }
      ]
    },
    {
      "cell_type": "code",
      "metadata": {
        "id": "ATleSwwl41rZ",
        "colab_type": "code",
        "outputId": "cbb7e80c-90f5-45d7-e5e3-f4bfad32d236",
        "colab": {
          "base_uri": "https://localhost:8080/",
          "height": 89
        }
      },
      "source": [
        "# 4. 각 리스트의 요소는 name, midterm, quiz, final입니다. \n",
        "stu = [[\"Geoffery Hinton\", 95, 65, 90],\n",
        "       [\"Yann Lecun\", 80, 85, 90],\n",
        "       [\"Yoshua Bengio\", 92, 88, 84],\n",
        "       [\"Andrew Ng\", 75, 85, 100]]\n",
        "\n",
        "# 학점 규칙: 중간고사 35%, 기말고사 35%, 퀴즈 30%\n",
        "# total을 계산하는 함수를 생성하세요. \n",
        "def total(s):\n",
        "    r = s[1]*0.35 + s[2]*0.35 + s[3]*0.3\n",
        "    return r\n",
        "\n",
        "for i in stu:\n",
        "  print(total(i))"
      ],
      "execution_count": 0,
      "outputs": [
        {
          "output_type": "stream",
          "text": [
            "83.0\n",
            "84.75\n",
            "88.19999999999999\n",
            "86.0\n"
          ],
          "name": "stdout"
        }
      ]
    }
  ]
}