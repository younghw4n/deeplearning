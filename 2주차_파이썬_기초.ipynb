{
  "nbformat": 4,
  "nbformat_minor": 0,
  "metadata": {
    "colab": {
      "name": "2주차_파이썬_기초.ipynb",
      "provenance": [],
      "toc_visible": true,
      "include_colab_link": true
    },
    "kernelspec": {
      "name": "python3",
      "display_name": "Python 3"
    }
  },
  "cells": [
    {
      "cell_type": "markdown",
      "metadata": {
        "id": "view-in-github",
        "colab_type": "text"
      },
      "source": [
        "<a href=\"https://colab.research.google.com/github/younghw4n/deeplearning/blob/master/2%EC%A3%BC%EC%B0%A8_%ED%8C%8C%EC%9D%B4%EC%8D%AC_%EA%B8%B0%EC%B4%88.ipynb\" target=\"_parent\"><img src=\"https://colab.research.google.com/assets/colab-badge.svg\" alt=\"Open In Colab\"/></a>"
      ]
    },
    {
      "cell_type": "markdown",
      "metadata": {
        "id": "YXl1pxXfqO_r",
        "colab_type": "text"
      },
      "source": [
        "\n",
        "# List vs. Tuple vs. Dictionary\n",
        "1.   List\n",
        "2.   Tuple\n",
        "3.   Dictionary\n",
        "\n"
      ]
    },
    {
      "cell_type": "markdown",
      "metadata": {
        "id": "TFblw5nmstDv",
        "colab_type": "text"
      },
      "source": [
        "## 1. List \n",
        ": define, slicing, copy"
      ]
    },
    {
      "cell_type": "code",
      "metadata": {
        "id": "AEvxabwoqajx",
        "colab_type": "code",
        "colab": {}
      },
      "source": [
        "a = [1,\"aa\",3,4,5]\n",
        "print( )\n",
        "print(a[])"
      ],
      "execution_count": 0,
      "outputs": []
    },
    {
      "cell_type": "code",
      "metadata": {
        "id": "j2UWFF2dshaa",
        "colab_type": "code",
        "colab": {}
      },
      "source": [
        "a_1 = a\n",
        "a_2 = a.copy()"
      ],
      "execution_count": 0,
      "outputs": []
    },
    {
      "cell_type": "code",
      "metadata": {
        "id": "6UZ8aYY3q_Gf",
        "colab_type": "code",
        "colab": {}
      },
      "source": [
        "a[0]=100\n",
        "print(a)\n",
        "print()\n",
        "print()"
      ],
      "execution_count": 0,
      "outputs": []
    },
    {
      "cell_type": "markdown",
      "metadata": {
        "id": "TSgfiSHesnVu",
        "colab_type": "text"
      },
      "source": [
        "## 2. Tuple \n",
        ": define, slicing, copy"
      ]
    },
    {
      "cell_type": "code",
      "metadata": {
        "id": "G5mBnDZ3qiPp",
        "colab_type": "code",
        "colab": {}
      },
      "source": [
        "b = ( 1, 'aa', [3, 4, 5], 6, 7)\n",
        "print()\n",
        "print()"
      ],
      "execution_count": 0,
      "outputs": []
    },
    {
      "cell_type": "code",
      "metadata": {
        "id": "3nyPhuiSqwDB",
        "colab_type": "code",
        "colab": {}
      },
      "source": [
        "t = ('a', 'b', 'c', 'd', 'e')\n",
        "t_1 = t\n",
        "# t_2 = t.copy()\n",
        "type(t)"
      ],
      "execution_count": 0,
      "outputs": []
    },
    {
      "cell_type": "code",
      "metadata": {
        "id": "e8Ki1e9huV7S",
        "colab_type": "code",
        "colab": {}
      },
      "source": [
        "t[0] = 2"
      ],
      "execution_count": 0,
      "outputs": []
    },
    {
      "cell_type": "code",
      "metadata": {
        "id": "JyUzzRnuq6iZ",
        "colab_type": "code",
        "colab": {}
      },
      "source": [
        "t = "
      ],
      "execution_count": 0,
      "outputs": []
    },
    {
      "cell_type": "code",
      "metadata": {
        "id": "VUBzzKeftCgs",
        "colab_type": "code",
        "colab": {}
      },
      "source": [
        "print()\n",
        "print()"
      ],
      "execution_count": 0,
      "outputs": []
    },
    {
      "cell_type": "markdown",
      "metadata": {
        "id": "zy6UW6ZYvq8w",
        "colab_type": "text"
      },
      "source": [
        "## 3. Dictionary \n",
        ":\n",
        "사전 타입은 인덱스로 개별 항목에 접근하는 배열과 달리 키 값으로 접근할 수 있는 리스트 타입 입니다. \n",
        "\n",
        "사전은 {키:값, 키:값...}의 방식으로 선언 합니다. "
      ]
    },
    {
      "cell_type": "code",
      "metadata": {
        "id": "sJeOEoX_uPNX",
        "colab_type": "code",
        "colab": {}
      },
      "source": [
        "dict={\"k\":\"kor\", 'e':'eng', 9:'jpn'}\n",
        "print(type(dict))\n",
        "print(dict)"
      ],
      "execution_count": 0,
      "outputs": []
    },
    {
      "cell_type": "code",
      "metadata": {
        "id": "U3TGK4EGwboN",
        "colab_type": "code",
        "colab": {}
      },
      "source": [
        "dict[0]"
      ],
      "execution_count": 0,
      "outputs": []
    },
    {
      "cell_type": "code",
      "metadata": {
        "id": "lnaViTHmwdCA",
        "colab_type": "code",
        "colab": {}
      },
      "source": [
        "dict[k]"
      ],
      "execution_count": 0,
      "outputs": []
    },
    {
      "cell_type": "code",
      "metadata": {
        "id": "r31LUVZvweQA",
        "colab_type": "code",
        "colab": {}
      },
      "source": [
        "dict[]"
      ],
      "execution_count": 0,
      "outputs": []
    },
    {
      "cell_type": "code",
      "metadata": {
        "id": "_MpWh0UswjWp",
        "colab_type": "code",
        "colab": {}
      },
      "source": [
        "dict[]="
      ],
      "execution_count": 0,
      "outputs": []
    },
    {
      "cell_type": "code",
      "metadata": {
        "id": "PN03mRlXwv8J",
        "colab_type": "code",
        "colab": {}
      },
      "source": [
        "print()"
      ],
      "execution_count": 0,
      "outputs": []
    },
    {
      "cell_type": "code",
      "metadata": {
        "id": "MVtVkguMwzF6",
        "colab_type": "code",
        "colab": {}
      },
      "source": [
        "dict[9]"
      ],
      "execution_count": 0,
      "outputs": []
    },
    {
      "cell_type": "markdown",
      "metadata": {
        "id": "kSgGK2ifyKWN",
        "colab_type": "text"
      },
      "source": [
        "# List vs. Array\n",
        "python에서 list는 크기가 가변적이고 어떤 원소 타입이던 저장할 수 있다는 장점이 있다.\n",
        "\n",
        "array 는 동일한 타입의 원소를 저장할 수 있는 대신, 메모리를 훨씬 적게 쓴다.\n",
        "\n",
        "또한, array로 연산을 하는 경우는 array.array 보다는 NumPy를 쓰는것이 효율적이다."
      ]
    },
    {
      "cell_type": "code",
      "metadata": {
        "id": "1Al0Dto4ydYO",
        "colab_type": "code",
        "colab": {}
      },
      "source": [
        "import array\n",
        "import resource\n",
        "\n",
        "startMem = resource.getrusage(resource.RUSAGE_SELF).ru_maxrss\n",
        "\n",
        "mylist = []\n",
        "for i in range(1,1000000):\n",
        "    mylist.append(i)\n",
        "\n",
        "listMem = resource.getrusage(resource.RUSAGE_SELF).ru_maxrss\n",
        "\n",
        "myarray = array.array('i')\n",
        "for i in range(1,1000000):\n",
        "    myarray.append(i)\n",
        "\n",
        "arrayMem = resource.getrusage(resource.RUSAGE_SELF).ru_maxrss\n",
        "\n",
        "print(\"list를 만드는 데는 :\", listMem-startMem)\n",
        "print(\"array를 만드는 데는 : \", arrayMem-listMem)"
      ],
      "execution_count": 0,
      "outputs": []
    },
    {
      "cell_type": "code",
      "metadata": {
        "id": "NPHzFgwMGSAl",
        "colab_type": "code",
        "colab": {}
      },
      "source": [
        "A = [1, 2, 3]\n",
        "print(type(A))"
      ],
      "execution_count": 0,
      "outputs": []
    },
    {
      "cell_type": "code",
      "metadata": {
        "id": "_EIrml4cEUOY",
        "colab_type": "code",
        "colab": {}
      },
      "source": [
        "A = [1 2 3; 2 3 4; 45 6 3]"
      ],
      "execution_count": 0,
      "outputs": []
    },
    {
      "cell_type": "code",
      "metadata": {
        "id": "kJMfT0UCEbLq",
        "colab_type": "code",
        "colab": {}
      },
      "source": [
        "A = [1, 2, 3; 2, 3, 4; 45, 6, 3]"
      ],
      "execution_count": 0,
      "outputs": []
    },
    {
      "cell_type": "code",
      "metadata": {
        "id": "hR2AenILFRxA",
        "colab_type": "code",
        "colab": {}
      },
      "source": [
        "A = [[1, 2, 2], [2, 3, 4], [45, 6, 3]]\n",
        "print(A)\n",
        "type(A)"
      ],
      "execution_count": 0,
      "outputs": []
    },
    {
      "cell_type": "code",
      "metadata": {
        "id": "TD_Van6xFt_F",
        "colab_type": "code",
        "colab": {}
      },
      "source": [
        "A = 5*[5*[0]]\n"
      ],
      "execution_count": 0,
      "outputs": []
    },
    {
      "cell_type": "markdown",
      "metadata": {
        "id": "PaRhqzsaJHBa",
        "colab_type": "text"
      },
      "source": [
        "arrayName = array(typecode, [Initializers])"
      ]
    },
    {
      "cell_type": "code",
      "metadata": {
        "id": "aVrHYuBWJcXo",
        "colab_type": "code",
        "colab": {}
      },
      "source": [
        "from array import *\n",
        "\n",
        "array1 = array('i', [10,20,30,40,50])\n",
        "print(array1)\n",
        "\n",
        "array1.insert(1,60)\n",
        "print(array1)\n",
        "\n",
        "array1.remove(40)\n",
        "print(array1)\n",
        "\n",
        "type(array1)"
      ],
      "execution_count": 0,
      "outputs": []
    },
    {
      "cell_type": "code",
      "metadata": {
        "id": "_Op_E-PR0Aan",
        "colab_type": "code",
        "colab": {}
      },
      "source": [
        "print()\n",
        "print()"
      ],
      "execution_count": 0,
      "outputs": []
    },
    {
      "cell_type": "code",
      "metadata": {
        "id": "Igx0v01cHEh0",
        "colab_type": "code",
        "colab": {}
      },
      "source": [
        "from numpy import * \n",
        "B = array([[1, 2, 2], [2, 3, 4], [45, 6, 3]])\n",
        "print(B)\n",
        "type(B)\n",
        "print(B+B)"
      ],
      "execution_count": 0,
      "outputs": []
    },
    {
      "cell_type": "code",
      "metadata": {
        "id": "4ERejmYZIEhl",
        "colab_type": "code",
        "colab": {}
      },
      "source": [
        "from numpy import * \n",
        "a = array([['Mon',18,20,22,17],['Tue',11,18,21,18],\n",
        "\t\t   ['Wed',15,21,20,19],['Thu',11,20,22,21],\n",
        "\t\t   ['Fri',18,17,23,22],['Sat',12,22,20,18],\n",
        "\t\t   ['Sun',13,15,19,16]])\n",
        "print(a) \n",
        "print(type(a))\n",
        "m = reshape(a,(7,5))\n",
        "print(m)"
      ],
      "execution_count": 0,
      "outputs": []
    },
    {
      "cell_type": "code",
      "metadata": {
        "id": "LfPDhZA2K3Kv",
        "colab_type": "code",
        "colab": {}
      },
      "source": [
        "# Print data for Wednesday\n",
        "print(m[2])\n",
        "\n",
        "# Print data for friday evening\n",
        "print(m[4][3])"
      ],
      "execution_count": 0,
      "outputs": []
    },
    {
      "cell_type": "code",
      "metadata": {
        "id": "ExT-hR6qLBdx",
        "colab_type": "code",
        "colab": {}
      },
      "source": [
        "#Adding a row\n",
        "m_r = append(m,[['Avg',12,15,13,11]],0)\n",
        "\n",
        "print(m_r)"
      ],
      "execution_count": 0,
      "outputs": []
    },
    {
      "cell_type": "code",
      "metadata": {
        "id": "ypd9aGtxLB0R",
        "colab_type": "code",
        "colab": {}
      },
      "source": [
        "#Adding a column\n",
        "m_c = insert(m,[5],[[1],[2],[3],[4],[5],[6],[7]],1)\n",
        "\n",
        "print(m_c)"
      ],
      "execution_count": 0,
      "outputs": []
    },
    {
      "cell_type": "code",
      "metadata": {
        "id": "0Y5SlO12L_PQ",
        "colab_type": "code",
        "colab": {}
      },
      "source": [
        "m_d1 = delete(m,[2],0)\n",
        "\n",
        "print(m_d1)"
      ],
      "execution_count": 0,
      "outputs": []
    },
    {
      "cell_type": "code",
      "metadata": {
        "id": "6Q9qzJlOL_Yj",
        "colab_type": "code",
        "colab": {}
      },
      "source": [
        "m_d2 = delete(m,[3],1)\n",
        "\n",
        "print(m_d2)"
      ],
      "execution_count": 0,
      "outputs": []
    },
    {
      "cell_type": "code",
      "metadata": {
        "id": "UfBVxEei42x9",
        "colab_type": "code",
        "colab": {}
      },
      "source": [
        "print(m[:,1:]+m[:,1:])"
      ],
      "execution_count": 0,
      "outputs": []
    },
    {
      "cell_type": "code",
      "metadata": {
        "id": "485y6_2E5LVF",
        "colab_type": "code",
        "colab": {}
      },
      "source": [
        "print(m[:,1:])"
      ],
      "execution_count": 0,
      "outputs": []
    },
    {
      "cell_type": "markdown",
      "metadata": {
        "id": "gcDwO8duNx3j",
        "colab_type": "text"
      },
      "source": [
        "#Array from NumPy\n",
        "\n",
        "NumPy provides multidimensional array of numbers. (which is actually an object)\n",
        "\n",
        "https://docs.scipy.org/doc/numpy-1.15.1/user/quickstart.html"
      ]
    },
    {
      "cell_type": "markdown",
      "metadata": {
        "id": "wmV3ayWj4ggD",
        "colab_type": "text"
      },
      "source": [
        "# 새 섹션"
      ]
    },
    {
      "cell_type": "code",
      "metadata": {
        "id": "canpwLBQN0I2",
        "colab_type": "code",
        "colab": {}
      },
      "source": [
        "\n",
        "a = np.array([])\n",
        "print(a)            \n",
        "print()"
      ],
      "execution_count": 0,
      "outputs": []
    },
    {
      "cell_type": "code",
      "metadata": {
        "id": "BfLgFJ570Kys",
        "colab_type": "code",
        "colab": {}
      },
      "source": [
        "print()"
      ],
      "execution_count": 0,
      "outputs": []
    },
    {
      "cell_type": "code",
      "metadata": {
        "id": "RtqAV9PCOFQq",
        "colab_type": "code",
        "colab": {}
      },
      "source": [
        "import \n",
        "\n",
        "A = np.array([[1, 2, 3], [3, 4, 5]])\n",
        "print(A)\n",
        "\n",
        "A = np.array([[1, 2, 3], [3, 4, 5]]) # Array of floats\n",
        "print(A)\n",
        "\n",
        "A = np.array([[1, 2, 3], [3, 4, 5]]) # Array of complex numbers\n",
        "print(A)\n",
        "\n",
        "print(type(A))"
      ],
      "execution_count": 0,
      "outputs": []
    },
    {
      "cell_type": "code",
      "metadata": {
        "id": "-qBfL4HhOFbT",
        "colab_type": "code",
        "colab": {}
      },
      "source": [
        "#Array of zeros and ones\n",
        "import numpy as np\n",
        "\n",
        "zeors_array = \n",
        "print(zeors_array)\n",
        "\n",
        "ones_array =  # specifying dtype\n",
        "print(ones_array) "
      ],
      "execution_count": 0,
      "outputs": []
    },
    {
      "cell_type": "code",
      "metadata": {
        "id": "MIYub4NQOFpA",
        "colab_type": "code",
        "colab": {}
      },
      "source": [
        "#Using arange() and shape()\n",
        "import numpy as np\n",
        "\n",
        "A = \n",
        "print('A =', A)\n",
        "\n",
        "B = \n",
        "print('B =', B)"
      ],
      "execution_count": 0,
      "outputs": []
    },
    {
      "cell_type": "code",
      "metadata": {
        "id": "Om_DWrv9Qf8G",
        "colab_type": "code",
        "colab": {}
      },
      "source": [
        "print(np.arange())\n",
        "print(np.arange().reshape())"
      ],
      "execution_count": 0,
      "outputs": []
    },
    {
      "cell_type": "code",
      "metadata": {
        "id": "5ncMlErLOFll",
        "colab_type": "code",
        "colab": {}
      },
      "source": [
        "#Addition of Two Matrices\n",
        "A = np.array([[2, 4], [5, -6]])\n",
        "B = np.array([[9, -3], [3, 6]])\n",
        "C =      # element wise addition\n",
        "print(C)"
      ],
      "execution_count": 0,
      "outputs": []
    },
    {
      "cell_type": "code",
      "metadata": {
        "id": "786uWC-EOFh3",
        "colab_type": "code",
        "colab": {}
      },
      "source": [
        "#Multiplication of Two Matrices\n",
        "A = np.array([[3, 6, 7], [5, -3, 0]])\n",
        "B = np.array([[1, 1], [2, 1], [3, -3]])\n",
        "C = A*B\n",
        "print(C)\n"
      ],
      "execution_count": 0,
      "outputs": []
    },
    {
      "cell_type": "code",
      "metadata": {
        "id": "2ithIn0KOo0s",
        "colab_type": "code",
        "colab": {}
      },
      "source": [
        "#Transpose of a Matrix\n",
        "A = np.array([[1, 1], [2, 1], [3, -3]])\n"
      ],
      "execution_count": 0,
      "outputs": []
    },
    {
      "cell_type": "code",
      "metadata": {
        "id": "mAKTsltyOo6z",
        "colab_type": "code",
        "colab": {}
      },
      "source": [
        "#Access matrix elements, rows and columns\n",
        "import numpy as np\n",
        "A = np.array([2, 4, 6, 8, 10])\n",
        "\n",
        "print(\"A[0] =\",)     # First element     \n",
        "print(\"A[2] =\",)     # Third element \n",
        "print(\"A[-1] =\",)   # Last element  \n"
      ],
      "execution_count": 0,
      "outputs": []
    },
    {
      "cell_type": "code",
      "metadata": {
        "id": "YP0mbulKOpD6",
        "colab_type": "code",
        "colab": {}
      },
      "source": [
        "A = np.array([[1, 4, 5, 12],\n",
        "    [-5, 8, 9, 0],\n",
        "    [-6, 7, 11, 19]])\n",
        "\n",
        "#  First element of first row\n",
        "print(\"A[0][0] =\", )  \n",
        "\n",
        "# Third element of second row\n",
        "print(\"A[1][2] =\", )\n",
        "\n",
        "# Last element of last row\n",
        "print(\"A[-1][-1] =\", )  "
      ],
      "execution_count": 0,
      "outputs": []
    },
    {
      "cell_type": "code",
      "metadata": {
        "id": "ja8PyaJHOpJx",
        "colab_type": "code",
        "colab": {}
      },
      "source": [
        "A[0]\n",
        "A[2] \n",
        "A[-1]"
      ],
      "execution_count": 0,
      "outputs": []
    },
    {
      "cell_type": "code",
      "metadata": {
        "id": "G_Kj_iyrOpXu",
        "colab_type": "code",
        "colab": {}
      },
      "source": [
        "A = np.array([[1, 4, 5, 12], \n",
        "    [-5, 8, 9, 0],\n",
        "    [-6, 7, 11, 19]])\n",
        "\n",
        "A[:,0] \n",
        "A[:,3]\n",
        "A[:,-1]"
      ],
      "execution_count": 0,
      "outputs": []
    },
    {
      "cell_type": "code",
      "metadata": {
        "id": "eEVXBSPmOpTs",
        "colab_type": "code",
        "colab": {}
      },
      "source": [
        "#Slicing of a Matrix\n",
        "import numpy as np\n",
        "letters = np.array([1, 3, 5, 7, 9, 7, 5])\n",
        "\n",
        "letters[2:5]       \n",
        "\n",
        "letters[:-5]       \n",
        "\n",
        "letters[5:]         \n",
        "\n",
        "letters[:]          \n",
        "\n",
        "letters[::-1] # reversing a list"
      ],
      "execution_count": 0,
      "outputs": []
    },
    {
      "cell_type": "code",
      "metadata": {
        "id": "DhcdNJQqOpCp",
        "colab_type": "code",
        "colab": {}
      },
      "source": [
        "A = np.array([[1, 4, 5, 12, 14], \n",
        "    [-5, 8, 9, 0, 17],\n",
        "    [-6, 7, 11, 19, 21]])\n",
        "\n",
        "A[:2, :4]\n",
        "A[:1,] \n",
        "A[:,2] \n",
        "A[:, 2:5]"
      ],
      "execution_count": 0,
      "outputs": []
    },
    {
      "cell_type": "markdown",
      "metadata": {
        "id": "MhuIJ5q68-4q",
        "colab_type": "text"
      },
      "source": [
        "#Plot\n",
        "\n",
        "https://matplotlib.org/3.1.1/api/_as_gen/matplotlib.pyplot.show.html"
      ]
    },
    {
      "cell_type": "code",
      "metadata": {
        "id": "AO4CUdGY-hOQ",
        "colab_type": "code",
        "colab": {}
      },
      "source": [
        "import  as \n",
        "\n",
        "plot([1, 4, 9, 16])\n",
        "show()"
      ],
      "execution_count": 0,
      "outputs": []
    },
    {
      "cell_type": "code",
      "metadata": {
        "id": "kSpf87oX-kse",
        "colab_type": "code",
        "colab": {}
      },
      "source": [
        "plot([10, 20, 30, 40], [1, 4, 9, 16])\n",
        "show()"
      ],
      "execution_count": 0,
      "outputs": []
    },
    {
      "cell_type": "code",
      "metadata": {
        "id": "SnjAljaYA80C",
        "colab_type": "code",
        "colab": {}
      },
      "source": [
        "data = {'apples': 10, 'oranges': 15, 'lemons': 5, 'limes': 20}\n",
        "names = list(data.keys())\n",
        "values = list(data.values())\n",
        "\n",
        "fig, axs = plt.subplots(1, 3, figsize=(9, 3), sharey=True)\n",
        "axs[0].bar(names, values)\n",
        "axs[1].scatter(names, values)\n",
        "axs[2].plot(names, values)\n",
        "fig.suptitle('Categorical Plotting')\n",
        "plt.show()"
      ],
      "execution_count": 0,
      "outputs": []
    },
    {
      "cell_type": "code",
      "metadata": {
        "id": "61bKHgwy_DuT",
        "colab_type": "code",
        "colab": {}
      },
      "source": [
        "plt.plot([10, 20, 30, 40], [1, 4, 9, 16], 'rs--')\n",
        "plt.show()\n",
        "\n"
      ],
      "execution_count": 0,
      "outputs": []
    },
    {
      "cell_type": "markdown",
      "metadata": {
        "id": "c7OuG8jI-wZ3",
        "colab_type": "text"
      },
      "source": [
        "플롯 명령어는 다양한 스타일(style)을 지원한다.\n",
        "\n",
        "스타일 문자열은 색깔(color), 마커(marker), 선 종류(line style)의 순서로 지정한다. 만약 이 중 일부가 생략되면 디폴트값이 적용된다.\n",
        "\n",
        "https://matplotlib.org/examples/color/named_colors.html"
      ]
    },
    {
      "cell_type": "markdown",
      "metadata": {
        "id": "I4GvcqPr43dK",
        "colab_type": "text"
      },
      "source": [
        "# 새 섹션"
      ]
    },
    {
      "cell_type": "code",
      "metadata": {
        "id": "1vJLXgDizG62",
        "colab_type": "code",
        "colab": {}
      },
      "source": [
        "\n",
        "x = range(1, 6) \n",
        "y1 = [0.01, 0.019, 0.042, 0.038, 0.062] \n",
        "y2 = [0.02, 0.021, 0.03, 0.036, 0.044] \n",
        "\n",
        "plt.plot(x, y1, label=\"Label 1\") \n",
        "\n",
        "plt.plot(x, y2, label=\"Label 2\") \n",
        "\n",
        "plt.xlabel(\"X Label\") \n",
        "plt.ylabel(\"Y Label\") \n",
        "plt.title('Title') \n",
        "\n",
        "plt.legend()\n",
        "plt.show()\n"
      ],
      "execution_count": 0,
      "outputs": []
    },
    {
      "cell_type": "code",
      "metadata": {
        "id": "CH1R8u2991YI",
        "colab_type": "code",
        "colab": {}
      },
      "source": [
        "plt.subplot(2,1,1)\n",
        "plt.plot(x, y1, label=\"Label 1\") \n",
        "\n",
        "plt.subplot(2,1,2)\n",
        "plt.plot(x, y2, label=\"Label 2\") \n",
        "plt.show()"
      ],
      "execution_count": 0,
      "outputs": []
    }
  ]
}