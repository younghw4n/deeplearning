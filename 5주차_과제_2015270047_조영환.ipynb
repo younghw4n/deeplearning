{
  "nbformat": 4,
  "nbformat_minor": 0,
  "metadata": {
    "colab": {
      "name": "5주차_과제_2015270047_조영환.ipynb",
      "provenance": [],
      "collapsed_sections": [],
      "authorship_tag": "ABX9TyPII+Xz6yPd1VwnN28+xsCd",
      "include_colab_link": true
    },
    "kernelspec": {
      "name": "python3",
      "display_name": "Python 3"
    }
  },
  "cells": [
    {
      "cell_type": "markdown",
      "metadata": {
        "id": "view-in-github",
        "colab_type": "text"
      },
      "source": [
        "<a href=\"https://colab.research.google.com/github/younghw4n/deeplearning/blob/master/5%EC%A3%BC%EC%B0%A8_%EA%B3%BC%EC%A0%9C_2015270047_%EC%A1%B0%EC%98%81%ED%99%98.ipynb\" target=\"_parent\"><img src=\"https://colab.research.google.com/assets/colab-badge.svg\" alt=\"Open In Colab\"/></a>"
      ]
    },
    {
      "cell_type": "markdown",
      "metadata": {
        "id": "niC3i6E7_otO",
        "colab_type": "text"
      },
      "source": [
        "#import\n",
        "import tensorflow & MNIST & matplot"
      ]
    },
    {
      "cell_type": "code",
      "metadata": {
        "id": "nULednsc_U25",
        "colab_type": "code",
        "colab": {}
      },
      "source": [
        "import tensorflow.keras\n",
        "from tensorflow.keras import models\n",
        "from tensorflow.keras import layers\n",
        "from tensorflow.keras.datasets import mnist\n",
        "from keras.utils import to_categorical\n",
        "import matplotlib.pyplot as plt"
      ],
      "execution_count": 0,
      "outputs": []
    },
    {
      "cell_type": "markdown",
      "metadata": {
        "id": "MnT2IOHVAIpF",
        "colab_type": "text"
      },
      "source": [
        "#load"
      ]
    },
    {
      "cell_type": "code",
      "metadata": {
        "id": "KVwaTLKnAKSS",
        "colab_type": "code",
        "colab": {}
      },
      "source": [
        "(train_images, train_labels), (test_images, test_labels) = mnist.load_data()"
      ],
      "execution_count": 0,
      "outputs": []
    },
    {
      "cell_type": "markdown",
      "metadata": {
        "id": "w5vautlIAr5_",
        "colab_type": "text"
      },
      "source": [
        "#layer\n",
        "*add hidden layer*"
      ]
    },
    {
      "cell_type": "code",
      "metadata": {
        "id": "qBp2FcESAvP5",
        "colab_type": "code",
        "colab": {}
      },
      "source": [
        "network = models.Sequential()\n",
        "network.add(layers.Dense(512, activation='relu', input_shape=(28*28,)))\n",
        "network.add(layers.Dense(728, activation='sigmoid')) #hidden layer\n",
        "network.add(layers.Dense(10, activation='softmax'))"
      ],
      "execution_count": 0,
      "outputs": []
    },
    {
      "cell_type": "markdown",
      "metadata": {
        "id": "f7_Kp9BfCPsd",
        "colab_type": "text"
      },
      "source": [
        "#data processing"
      ]
    },
    {
      "cell_type": "code",
      "metadata": {
        "id": "B98oMAf5Cav4",
        "colab_type": "code",
        "colab": {}
      },
      "source": [
        "train_images = train_images.reshape((-1, 28*28))\n",
        "train_images = train_images.astype('float32') / 255\n",
        "\n",
        "test_images = test_images.reshape((-1, 28*28))\n",
        "test_images = test_images.astype('float32') / 255"
      ],
      "execution_count": 0,
      "outputs": []
    },
    {
      "cell_type": "markdown",
      "metadata": {
        "id": "RFEQBUAWDeNf",
        "colab_type": "text"
      },
      "source": [
        "#encoding"
      ]
    },
    {
      "cell_type": "code",
      "metadata": {
        "id": "nZWPPGZXDhCA",
        "colab_type": "code",
        "colab": {}
      },
      "source": [
        "train_labels = to_categorical(train_labels)\n",
        "test_labels = to_categorical(test_labels)"
      ],
      "execution_count": 0,
      "outputs": []
    },
    {
      "cell_type": "markdown",
      "metadata": {
        "id": "CeVQlPudB0xx",
        "colab_type": "text"
      },
      "source": [
        "#hyper parameter\n",
        "*change parameter*"
      ]
    },
    {
      "cell_type": "code",
      "metadata": {
        "id": "rW2KiwfvB-U8",
        "colab_type": "code",
        "colab": {}
      },
      "source": [
        "network.compile(optimizer='Adam', loss='categorical_crossentropy', metrics=['accuracy']) #change parameter"
      ],
      "execution_count": 0,
      "outputs": []
    },
    {
      "cell_type": "markdown",
      "metadata": {
        "id": "T0j1a843DP0G",
        "colab_type": "text"
      },
      "source": [
        "#training"
      ]
    },
    {
      "cell_type": "code",
      "metadata": {
        "id": "N4byYegDDRfj",
        "colab_type": "code",
        "outputId": "1a779a85-1585-4f28-c746-97f10b5e8125",
        "colab": {
          "base_uri": "https://localhost:8080/",
          "height": 397
        }
      },
      "source": [
        "h = network.fit(train_images, train_labels, epochs=10, batch_size=128, validation_split=0.2)"
      ],
      "execution_count": 0,
      "outputs": [
        {
          "output_type": "stream",
          "text": [
            "Epoch 1/10\n",
            "375/375 [==============================] - 6s 16ms/step - loss: 0.3143 - accuracy: 0.9081 - val_loss: 0.1481 - val_accuracy: 0.9567\n",
            "Epoch 2/10\n",
            "375/375 [==============================] - 6s 16ms/step - loss: 0.1148 - accuracy: 0.9659 - val_loss: 0.1071 - val_accuracy: 0.9680\n",
            "Epoch 3/10\n",
            "375/375 [==============================] - 6s 16ms/step - loss: 0.0725 - accuracy: 0.9785 - val_loss: 0.0945 - val_accuracy: 0.9706\n",
            "Epoch 4/10\n",
            "375/375 [==============================] - 6s 15ms/step - loss: 0.0501 - accuracy: 0.9844 - val_loss: 0.0821 - val_accuracy: 0.9752\n",
            "Epoch 5/10\n",
            "375/375 [==============================] - 6s 15ms/step - loss: 0.0351 - accuracy: 0.9894 - val_loss: 0.0858 - val_accuracy: 0.9762\n",
            "Epoch 6/10\n",
            "375/375 [==============================] - 6s 15ms/step - loss: 0.0247 - accuracy: 0.9925 - val_loss: 0.0867 - val_accuracy: 0.9762\n",
            "Epoch 7/10\n",
            "375/375 [==============================] - 6s 15ms/step - loss: 0.0188 - accuracy: 0.9942 - val_loss: 0.0899 - val_accuracy: 0.9765\n",
            "Epoch 8/10\n",
            "375/375 [==============================] - 6s 16ms/step - loss: 0.0142 - accuracy: 0.9953 - val_loss: 0.0948 - val_accuracy: 0.9766\n",
            "Epoch 9/10\n",
            "375/375 [==============================] - 6s 15ms/step - loss: 0.0123 - accuracy: 0.9964 - val_loss: 0.0853 - val_accuracy: 0.9779\n",
            "Epoch 10/10\n",
            "375/375 [==============================] - 6s 15ms/step - loss: 0.0111 - accuracy: 0.9961 - val_loss: 0.0926 - val_accuracy: 0.9765\n"
          ],
          "name": "stdout"
        }
      ]
    },
    {
      "cell_type": "markdown",
      "metadata": {
        "id": "vTNppS1KFe9L",
        "colab_type": "text"
      },
      "source": [
        "#test"
      ]
    },
    {
      "cell_type": "code",
      "metadata": {
        "id": "RJJtdQdvFgPU",
        "colab_type": "code",
        "outputId": "9e5b0d24-c447-4b50-a129-9cf9d496e8e1",
        "colab": {
          "base_uri": "https://localhost:8080/",
          "height": 71
        }
      },
      "source": [
        "test_loss, test_acc = network.evaluate(test_images, test_labels)\n",
        "print('test_acc:', test_acc)\n",
        "print('test_loss:', test_loss)"
      ],
      "execution_count": 0,
      "outputs": [
        {
          "output_type": "stream",
          "text": [
            "313/313 [==============================] - 1s 3ms/step - loss: 0.0811 - accuracy: 0.9799\n",
            "test_acc: 0.9799000024795532\n",
            "test_loss: 0.08111504465341568\n"
          ],
          "name": "stdout"
        }
      ]
    },
    {
      "cell_type": "markdown",
      "metadata": {
        "id": "BFLxQognEqEz",
        "colab_type": "text"
      },
      "source": [
        "#plot"
      ]
    },
    {
      "cell_type": "code",
      "metadata": {
        "id": "d5vdPe97Eq8h",
        "colab_type": "code",
        "outputId": "4138bff7-24e6-4d46-856a-18ed8f70ed22",
        "colab": {
          "base_uri": "https://localhost:8080/",
          "height": 591
        }
      },
      "source": [
        "def plot_acc(h, title='accuracy'):\n",
        "  plt.plot(h.history['accuracy'])\n",
        "  plt.plot(h.history['val_accuracy'])\n",
        "  plt.title(title)\n",
        "  plt.ylabel('Accuracy')\n",
        "  plt.xlabel('Epoch')\n",
        "  plt.legend(['Training', 'Validation'])\n",
        "\n",
        "def plot_loss(h, title='loss'):\n",
        "  plt.plot(h.history['loss'])\n",
        "  plt.plot(h.history['val_loss'])\n",
        "  plt.title(title)\n",
        "  plt.ylabel('Loss')\n",
        "  plt.xlabel('Epoch')\n",
        "  plt.legend(['Training', 'Validation'])\n",
        "\n",
        "    \n",
        "plot_acc(h)\n",
        "plt.show()\n",
        "plt.clf()\n",
        "  \n",
        "plot_loss(h)\n",
        "plt.show()\n",
        "plt.clf()"
      ],
      "execution_count": 0,
      "outputs": [
        {
          "output_type": "display_data",
          "data": {
            "image/png": "[encoded data removed]",
            "text/plain": [
              "<Figure size 432x288 with 1 Axes>"
            ]
          },
          "metadata": {
            "tags": [],
            "needs_background": "light"
          }
        },
        {
          "output_type": "display_data",
          "data": {
            "image/png": "[encoded data removed]",
            "text/plain": [
              "<Figure size 432x288 with 1 Axes>"
            ]
          },
          "metadata": {
            "tags": [],
            "needs_background": "light"
          }
        },
        {
          "output_type": "display_data",
          "data": {
            "text/plain": [
              "<Figure size 432x288 with 0 Axes>"
            ]
          },
          "metadata": {
            "tags": []
          }
        }
      ]
    },
    {
      "cell_type": "markdown",
      "metadata": {
        "id": "wG3CwTFxMEwI",
        "colab_type": "text"
      },
      "source": [
        "#history"
      ]
    },
    {
      "cell_type": "code",
      "metadata": {
        "id": "ec--p7DvMIHO",
        "colab_type": "code",
        "outputId": "b1fd237e-0437-467e-9c64-5d7a7a85c859",
        "colab": {
          "base_uri": "https://localhost:8080/",
          "height": 737
        }
      },
      "source": [
        "h.history"
      ],
      "execution_count": 0,
      "outputs": [
        {
          "output_type": "execute_result",
          "data": {
            "text/plain": [
              "{'accuracy': [0.9081458449363708,\n",
              "  0.9659374952316284,\n",
              "  0.9784583449363708,\n",
              "  0.9843958616256714,\n",
              "  0.9894375205039978,\n",
              "  0.992479145526886,\n",
              "  0.9942499995231628,\n",
              "  0.9952916502952576,\n",
              "  0.9964374899864197,\n",
              "  0.9961458444595337],\n",
              " 'loss': [0.3142703175544739,\n",
              "  0.11482042074203491,\n",
              "  0.07249544560909271,\n",
              "  0.05009129270911217,\n",
              "  0.035118766129016876,\n",
              "  0.02472953498363495,\n",
              "  0.0187525674700737,\n",
              "  0.01424622256308794,\n",
              "  0.012258049100637436,\n",
              "  0.011105948127806187],\n",
              " 'val_accuracy': [0.9566666483879089,\n",
              "  0.9679999947547913,\n",
              "  0.9705833196640015,\n",
              "  0.9751666784286499,\n",
              "  0.9762499928474426,\n",
              "  0.9761666655540466,\n",
              "  0.9764999747276306,\n",
              "  0.9765833616256714,\n",
              "  0.9779166579246521,\n",
              "  0.9764999747276306],\n",
              " 'val_loss': [0.14810718595981598,\n",
              "  0.1070825606584549,\n",
              "  0.09445097297430038,\n",
              "  0.08212098479270935,\n",
              "  0.0857827439904213,\n",
              "  0.08666501194238663,\n",
              "  0.0899394080042839,\n",
              "  0.09475643932819366,\n",
              "  0.08527708798646927,\n",
              "  0.09264082461595535]}"
            ]
          },
          "metadata": {
            "tags": []
          },
          "execution_count": 120
        }
      ]
    }
  ]
}