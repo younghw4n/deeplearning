{
  "nbformat": 4,
  "nbformat_minor": 0,
  "metadata": {
    "colab": {
      "name": "3주차_과제_2015270047_조영환.ipynb",
      "provenance": [],
      "collapsed_sections": [],
      "authorship_tag": "ABX9TyNzOmiy5HwYaV79e822sTij",
      "include_colab_link": true
    },
    "kernelspec": {
      "name": "python3",
      "display_name": "Python 3"
    }
  },
  "cells": [
    {
      "cell_type": "markdown",
      "metadata": {
        "id": "view-in-github",
        "colab_type": "text"
      },
      "source": [
        "<a href=\"https://colab.research.google.com/github/younghw4n/deeplearning/blob/master/3%EC%A3%BC%EC%B0%A8_%EA%B3%BC%EC%A0%9C_2015270047_%EC%A1%B0%EC%98%81%ED%99%98.ipynb\" target=\"_parent\"><img src=\"https://colab.research.google.com/assets/colab-badge.svg\" alt=\"Open In Colab\"/></a>"
      ]
    },
    {
      "cell_type": "markdown",
      "metadata": {
        "id": "TS9QuUHT5tNz",
        "colab_type": "text"
      },
      "source": [
        "#HW1"
      ]
    },
    {
      "cell_type": "code",
      "metadata": {
        "id": "vbTWpeuN5xUs",
        "colab_type": "code",
        "outputId": "fe34c3bb-27f8-4a92-b7fb-409779874e22",
        "colab": {
          "base_uri": "https://localhost:8080/",
          "height": 35
        }
      },
      "source": [
        "import numpy as np\n",
        "\n",
        "def relu(x):\n",
        "    return np.maximum(0, x)\n",
        "\n",
        "x = 0\n",
        "target = 1\n",
        "w = np.random.normal(0,1,[1])\n",
        "activation = x * w\n",
        "output = relu(activation)\n",
        "print(output)\n"
      ],
      "execution_count": 0,
      "outputs": [
        {
          "output_type": "stream",
          "text": [
            "[0.]\n"
          ],
          "name": "stdout"
        }
      ]
    },
    {
      "cell_type": "markdown",
      "metadata": {
        "id": "-Pvs1In8519K",
        "colab_type": "text"
      },
      "source": [
        "#HW2"
      ]
    },
    {
      "cell_type": "code",
      "metadata": {
        "id": "hjMNxj2l6ZBC",
        "colab_type": "code",
        "colab": {}
      },
      "source": [
        "import numpy as np\n",
        "x = np.array([[1,1], [1,0], [0,1], [0,0]])\n",
        "y = np.array([[0], [1], [1], [0]])\n",
        "\n",
        "w1 = np.random.normal(0,1,[2])\n",
        "w2 = np.random.normal(0,1,[2])\n",
        "b1 = np.random.normal(0,1,[1])\n",
        "b2 = np.random.normal(0,1,[1])\n",
        "\n",
        "w_out = np.random.normal(0,1,[2])\n",
        "b_out = np.random.normal(0,1,[1])\n",
        "\n",
        "b_x = 1"
      ],
      "execution_count": 0,
      "outputs": []
    }
  ]
}